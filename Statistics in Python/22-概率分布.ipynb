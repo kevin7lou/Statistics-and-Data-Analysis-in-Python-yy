{
 "cells": [
  {
   "cell_type": "markdown",
   "metadata": {},
   "source": [
    "**离散分布：二项、泊松、几何**\n",
    "\n",
    "**连续分布：均匀、正态、指数**\n",
    "\n",
    "* stats.*distribution*.rvs()\n",
    "* stats.*distribution*.cdf()\n",
    "* stats.*distribution*.ppf()\n",
    "* stats.*distribution*.pdf()\n",
    "* stats.*distribution*.pmf()"
   ]
  },
  {
   "cell_type": "code",
   "execution_count": 2,
   "metadata": {
    "collapsed": true
   },
   "outputs": [],
   "source": [
    "import pandas as pd\n",
    "import numpy as np\n",
    "import matplotlib.pyplot as plt\n",
    "import scipy.stats as stats\n",
    "%matplotlib inline"
   ]
  },
  {
   "cell_type": "markdown",
   "metadata": {},
   "source": [
    "# The Uniform Distribution 均匀分布"
   ]
  },
  {
   "cell_type": "code",
   "execution_count": 3,
   "metadata": {
    "collapsed": true
   },
   "outputs": [],
   "source": [
    "# 随机生成 服从均匀分布的数据集，数据量size=100000,取值范围 0-10 。rvs:random variates，返回的是array，需要再pd.DataFrame\n",
    "uniform_data = stats.uniform.rvs(size=100000,\n",
    "                                 loc = 0,\n",
    "                                 scale = 10)"
   ]
  },
  {
   "cell_type": "code",
   "execution_count": 4,
   "metadata": {
    "collapsed": false
   },
   "outputs": [
    {
     "data": {
      "text/plain": [
       "<matplotlib.axes._subplots.AxesSubplot at 0x1192dc518>"
      ]
     },
     "execution_count": 4,
     "metadata": {},
     "output_type": "execute_result"
    },
    {
     "data": {
      "image/png": "[encoded data removed]",
      "text/plain": [
       "<matplotlib.figure.Figure at 0x116e6ca58>"
      ]
     },
     "metadata": {},
     "output_type": "display_data"
    }
   ],
   "source": [
    "# 画出概率（密度）分布图\n",
    "\n",
    "pd.DataFrame(uniform_data).plot(kind='density',\n",
    "                  figsize=(9,9),\n",
    "                  xlim=(-1,11))"
   ]
  },
  {
   "cell_type": "markdown",
   "metadata": {},
   "source": [
    "## Scipy中的概率密度 相关的函数："
   ]
  },
  {
   "cell_type": "code",
   "execution_count": 5,
   "metadata": {
    "collapsed": false
   },
   "outputs": [
    {
     "data": {
      "text/plain": [
       "0.25"
      ]
     },
     "execution_count": 5,
     "metadata": {},
     "output_type": "execute_result"
    }
   ],
   "source": [
    "#-stats.distribution.rvs()   generates random numbers from the specified distribution. \n",
    "#-stats.distribution.cdf()   Cumulative Distribution Function 累积分布函数\n",
    "stats.uniform.cdf(x=2.5,         # Cutoff value (quantile) to check\n",
    "                  loc=0,         # Distribution start\n",
    "                  scale=10)      # Distribution end\n",
    "\n",
    "# 该数据集服从均匀分布，随机抽取的值在2.5及以下的概率为："
   ]
  },
  {
   "cell_type": "code",
   "execution_count": 6,
   "metadata": {
    "collapsed": false
   },
   "outputs": [
    {
     "data": {
      "text/plain": [
       "4.0"
      ]
     },
     "execution_count": 6,
     "metadata": {},
     "output_type": "execute_result"
    }
   ],
   "source": [
    "# -stats.distribution.ppf()  Percent Point Funcion is the inverse of cdf(): 已知概率，求cutoff value\n",
    "stats.uniform.ppf(q=0.4,         # Probability cutoff\n",
    "                  loc=0,         # Distribution start\n",
    "                  scale=10)      # Distribution end"
   ]
  },
  {
   "cell_type": "code",
   "execution_count": 7,
   "metadata": {
    "collapsed": false
   },
   "outputs": [
    {
     "name": "stdout",
     "output_type": "stream",
     "text": [
      "Density at x value -1\n",
      "0.0\n",
      "Density at x value 2\n",
      "0.1\n",
      "Density at x value 5\n",
      "0.1\n",
      "Density at x value 8\n",
      "0.1\n",
      "Density at x value 11\n",
      "0.0\n"
     ]
    }
   ],
   "source": [
    "# 概率密度函数 probability density function\n",
    "#-stats.distribution.pdf() gives you the probability density (height of the distribution) at a given x value.\n",
    "\n",
    "for x in range(-1,12,3):\n",
    "    print(\"Density at x value \" + str(x))\n",
    "    print( stats.uniform.pdf(x, loc=0, scale=10) )   \n",
    "    \n",
    "#-1，11  超出了[0,10],所以概率为0"
   ]
  },
  {
   "cell_type": "markdown",
   "metadata": {},
   "source": [
    "#### 随机种子使得随机具有在reproducibility，再现性，这也说明了不是真随机，是伪随机"
   ]
  },
  {
   "cell_type": "markdown",
   "metadata": {},
   "source": [
    "# The Normal Distribution 正态分布\n",
    "* A normal distribution is defined by its center (mean) and spread (standard deviation.). \n",
    "* 经验法则：1：68%的数据落在距离中心(均值点）1个标准差的范围内；2：95%；3：99.7%"
   ]
  },
  {
   "cell_type": "code",
   "execution_count": 8,
   "metadata": {
    "collapsed": false
   },
   "outputs": [
    {
     "name": "stdout",
     "output_type": "stream",
     "text": [
      "0.158655253931 0.158655253931 0.682689492137\n"
     ]
    }
   ],
   "source": [
    "prob_under_minusone = stats.norm.cdf(x=-1, \n",
    "                                     loc=0,  # mean\n",
    "                                     scale=1)  # std\n",
    "prob_over_1 =1- stats.norm.cdf(x=1,\n",
    "                             loc=0,\n",
    "                             scale=1)\n",
    "\n",
    "between_prob = 1-(prob_under_minusone + prob_over_1)\n",
    "\n",
    "print(prob_under_minusone,prob_over_1,between_prob)"
   ]
  },
  {
   "cell_type": "markdown",
   "metadata": {},
   "source": [
    "### Plot normal distribution areas*"
   ]
  },
  {
   "cell_type": "code",
   "execution_count": 9,
   "metadata": {
    "collapsed": false
   },
   "outputs": [
    {
     "data": {
      "text/plain": [
       "<matplotlib.text.Text at 0x1033be550>"
      ]
     },
     "execution_count": 9,
     "metadata": {},
     "output_type": "execute_result"
    },
    {
     "data": {
      "image/png": "[encoded data removed]",
      "text/plain": [
       "<matplotlib.figure.Figure at 0x11aca3c88>"
      ]
     },
     "metadata": {},
     "output_type": "display_data"
    }
   ],
   "source": [
    "plt.rcParams[\"figure.figsize\"] = (9,9)\n",
    "                                  \n",
    "plt.fill_between(x=np.arange(-4,-1,0.01),                    # 一段x范围\n",
    "                 y1= stats.norm.pdf(np.arange(-4,-1,0.01)) , # x范围内的所有概率，构成该范围内的概率密度曲线\n",
    "                 facecolor='red',                            # 对 概率密度曲线下的面积 填色\n",
    "                 alpha=0.35)           # 颜色浓度参数  \n",
    "\n",
    "plt.fill_between(x=np.arange(1,4,0.01), \n",
    "                 y1= stats.norm.pdf(np.arange(1,4,0.01)) ,\n",
    "                 facecolor='red',\n",
    "                 alpha=0.35)\n",
    "\n",
    "plt.fill_between(x=np.arange(-1,1,0.01), \n",
    "                 y1= stats.norm.pdf(np.arange(-1,1,0.01)) ,\n",
    "                 facecolor='blue',\n",
    "                 alpha=0.35)\n",
    "\n",
    "plt.text(x=-1.8, y=0.03, s= round(prob_under_minusone,3))\n",
    "plt.text(x=-0.2, y=0.1, s= round(between_prob,3))\n",
    "plt.text(x=1.4, y=0.03, s= round(prob_over_1,3))"
   ]
  },
  {
   "cell_type": "markdown",
   "metadata": {},
   "source": [
    "### 找到quantiles of normal distribution 是统计检验中经常要做的事。You can check normal distribution quantiles with stats.norm.ppf():"
   ]
  },
  {
   "cell_type": "code",
   "execution_count": 9,
   "metadata": {
    "collapsed": false
   },
   "outputs": [
    {
     "name": "stdout",
     "output_type": "stream",
     "text": [
      "-1.95996398454\n",
      "1.95996398454\n"
     ]
    }
   ],
   "source": [
    "print(stats.norm.ppf(q=0.025)) \n",
    "print(stats.norm.ppf(q=0.975))"
   ]
  },
  {
   "cell_type": "markdown",
   "metadata": {},
   "source": [
    "# The Binomial Distribution 二项分布"
   ]
  },
  {
   "cell_type": "code",
   "execution_count": 10,
   "metadata": {
    "collapsed": false
   },
   "outputs": [
    {
     "name": "stdout",
     "output_type": "stream",
     "text": [
      "col_0   0   1    2     3     4     5     6     7    8   9   10\n",
      "row_0                                                         \n",
      "counts   8  87  458  1142  2056  2473  2093  1129  446  98  10\n"
     ]
    },
    {
     "data": {
      "text/plain": [
       "array([[<matplotlib.axes._subplots.AxesSubplot object at 0x11ac9f400>]], dtype=object)"
      ]
     },
     "execution_count": 10,
     "metadata": {},
     "output_type": "execute_result"
    },
    {
     "data": {
      "image/png": "[encoded data removed]",
      "text/plain": [
       "<matplotlib.figure.Figure at 0x11ac47e80>"
      ]
     },
     "metadata": {},
     "output_type": "display_data"
    }
   ],
   "source": [
    "# 抛硬币，每次试验抛10次，以下为在10000次试验中，每次试验出现1、2、3..10次正面的频数\n",
    "\n",
    "fair_coin_flips = stats.binom.rvs(n=10,        # Number of flips per trial\n",
    "                                  p=0.5,       # Success probability\n",
    "                                  size=10000)  # Number of trials\n",
    "print(pd.crosstab(index='counts',columns=fair_coin_flips))       # 交叉表\n",
    "      \n",
    "pd.DataFrame(fair_coin_flips).hist(range=(-0.5,10.5), bins=11)   #画直方图\n",
    "                                "
   ]
  },
  {
   "cell_type": "markdown",
   "metadata": {},
   "source": [
    "#### 貌似对称，那么改变下success probability："
   ]
  },
  {
   "cell_type": "code",
   "execution_count": 11,
   "metadata": {
    "collapsed": false
   },
   "outputs": [
    {
     "name": "stdout",
     "output_type": "stream",
     "text": [
      "col_0   1   3   4    5    6     7     8     9     10\n",
      "row_0                                               \n",
      "counts   1   6  53  216  907  2076  2982  2679  1080\n"
     ]
    },
    {
     "data": {
      "text/plain": [
       "array([[<matplotlib.axes._subplots.AxesSubplot object at 0x11ac3a400>]], dtype=object)"
      ]
     },
     "execution_count": 11,
     "metadata": {},
     "output_type": "execute_result"
    },
    {
     "data": {
      "image/png": "[encoded data removed]",
      "text/plain": [
       "<matplotlib.figure.Figure at 0x119f31ac8>"
      ]
     },
     "metadata": {},
     "output_type": "display_data"
    }
   ],
   "source": [
    "biased_coin_flips = stats.binom.rvs(n=10,\n",
    "                                      p=0.8,\n",
    "                                      size=10000)\n",
    "\n",
    "print(pd.crosstab(index='counts',columns=biased_coin_flips))\n",
    "\n",
    "pd.DataFrame(biased_coin_flips).hist(range=(-.5,10.5),bins=11)\n",
    "\n",
    "#可以看出 10次中出现8次正面的频数最多，符合p=0.8 的概率"
   ]
  },
  {
   "cell_type": "markdown",
   "metadata": {},
   "source": [
    "#### cdf()： The cdf() function lets us check the probability of achieving a number of successes 【within a certain range】:"
   ]
  },
  {
   "cell_type": "code",
   "execution_count": 12,
   "metadata": {
    "collapsed": false
   },
   "outputs": [
    {
     "data": {
      "text/plain": [
       "0.032793497599999964"
      ]
     },
     "execution_count": 12,
     "metadata": {},
     "output_type": "execute_result"
    }
   ],
   "source": [
    "stats.binom.cdf(k=5,        # Probability of k = 5 successes or less 出现 ≤5 次正面的概率\n",
    "                n=10,       # With 10 flips\n",
    "                p=0.8)      # And success probability 0.8"
   ]
  },
  {
   "cell_type": "code",
   "execution_count": 13,
   "metadata": {
    "collapsed": false
   },
   "outputs": [
    {
     "data": {
      "text/plain": [
       "0.37580963840000003"
      ]
     },
     "execution_count": 13,
     "metadata": {},
     "output_type": "execute_result"
    }
   ],
   "source": [
    "1 - stats.binom.cdf(k=8,        # Probability of k = 9 successes or more\n",
    "                    n=10,       # With 10 flips\n",
    "                    p=0.8)      # And success probability 0.8"
   ]
  },
  {
   "cell_type": "code",
   "execution_count": 14,
   "metadata": {
    "collapsed": false
   },
   "outputs": [
    {
     "data": {
      "text/plain": [
       "0.30198988799999998"
      ]
     },
     "execution_count": 14,
     "metadata": {},
     "output_type": "execute_result"
    }
   ],
   "source": [
    "# 恰好8次成功的概率：\n",
    "stats.binom.cdf(k=8,n=10,p=0.8)-stats.binom.cdf(k=7,n=10,p=0.8)\n",
    "#或者用概率质量函数计算概率，见后文"
   ]
  },
  {
   "cell_type": "markdown",
   "metadata": {},
   "source": [
    "* For __continuous__ probability density functions, you usf __pdf()__ to check the probability density at a given x value.\n",
    "\n",
    "\n",
    "* For __discrete__ distributions like the binomial, use __pmf()__ probability mass functions to check the mass(proportion of observations) at a given number of successes k:"
   ]
  },
  {
   "cell_type": "code",
   "execution_count": 15,
   "metadata": {
    "collapsed": false
   },
   "outputs": [
    {
     "data": {
      "text/plain": [
       "0.30198988799999998"
      ]
     },
     "execution_count": 15,
     "metadata": {},
     "output_type": "execute_result"
    }
   ],
   "source": [
    "stats.binom.pmf(k=8,     # Probability of k = 8 successes\n",
    "                p=0.8,\n",
    "                n=10)"
   ]
  },
  {
   "cell_type": "markdown",
   "metadata": {
    "collapsed": true
   },
   "source": [
    "# The Geometric and Exponential Distributions \n",
    "* stats.geom 几何分布（不同于超几何分布）是离散型分布，在n伯努利试验中，试验k次才得到第1次成功的概率\n",
    "\n",
    "* stats.expon 指数分布，是连续型分布，用于计算完成一项任务所需时间的概率，或者说间隔时间为X的概率"
   ]
  },
  {
   "cell_type": "code",
   "execution_count": 16,
   "metadata": {
    "collapsed": false
   },
   "outputs": [
    {
     "name": "stdout",
     "output_type": "stream",
     "text": [
      "最多试验几次:  15\n",
      "col_0     1     2     3    4    5    6   7   8   9   10  11  12  15\n",
      "row_0                                                              \n",
      "Counts  5052  2485  1212  629  329  141  69  38  14  16  10   4   1\n"
     ]
    },
    {
     "data": {
      "text/plain": [
       "array([[<matplotlib.axes._subplots.AxesSubplot object at 0x1033bc3c8>]], dtype=object)"
      ]
     },
     "execution_count": 16,
     "metadata": {},
     "output_type": "execute_result"
    },
    {
     "data": {
      "image/png": "[encoded data removed]",
      "text/plain": [
       "<matplotlib.figure.Figure at 0x119ec6b38>"
      ]
     },
     "metadata": {},
     "output_type": "display_data"
    }
   ],
   "source": [
    "np.random.seed(12)\n",
    "\n",
    "#以抛硬币出现正面（head）为例\n",
    "flips_till_heads = stats.geom.rvs(size=10000,\n",
    "                                  p=0.5)\n",
    "\n",
    "print('最多试验几次: ',max(flips_till_heads))\n",
    "print(pd.crosstab(index='Counts',columns=flips_till_heads))\n",
    "\n",
    "pd.DataFrame(flips_till_heads).hist(range=(-0.5,max(flips_till_heads)+0.5),\n",
    "                                    bins=max(flips_till_heads)+1)\n"
   ]
  },
  {
   "cell_type": "code",
   "execution_count": 17,
   "metadata": {
    "collapsed": false
   },
   "outputs": [
    {
     "data": {
      "text/plain": [
       "0.03125"
      ]
     },
     "execution_count": 17,
     "metadata": {},
     "output_type": "execute_result"
    }
   ],
   "source": [
    "# 用cdf() 累积分布函数来得到需要试验5次以上才出现正面的概率：\n",
    "first_five = stats.geom.cdf(k=5,\n",
    "                            p=0.5)\n",
    "1-first_five"
   ]
  },
  {
   "cell_type": "code",
   "execution_count": 18,
   "metadata": {
    "collapsed": false
   },
   "outputs": [
    {
     "data": {
      "text/plain": [
       "0.25"
      ]
     },
     "execution_count": 18,
     "metadata": {},
     "output_type": "execute_result"
    }
   ],
   "source": [
    "# 用pmf() probability mass function 计算具体的第k次才成功的概率\n",
    "stats.geom.pmf(k=2,     # stas.geom. 没有pdf()函数\n",
    "               p=0.5)"
   ]
  },
  {
   "cell_type": "markdown",
   "metadata": {},
   "source": [
    "### stats.expon\n",
    "\n",
    "![exponential](expon.png)"
   ]
  },
  {
   "cell_type": "code",
   "execution_count": 19,
   "metadata": {
    "collapsed": false
   },
   "outputs": [
    {
     "data": {
      "text/plain": [
       "0.36787944117144233"
      ]
     },
     "execution_count": 19,
     "metadata": {},
     "output_type": "execute_result"
    }
   ],
   "source": [
    "# Get the probability of waiting more than 1 time unit before a success\n",
    "\n",
    "prob_1 = stats.expon.cdf(x=1,\n",
    "                         scale=1) #Arrival rate μ\n",
    "\n",
    "1-prob_1"
   ]
  },
  {
   "cell_type": "markdown",
   "metadata": {
    "collapsed": false
   },
   "source": [
    "* Note: The average arrival time for the exponential distribution is equal to 1/arrival_rate."
   ]
  },
  {
   "cell_type": "code",
   "execution_count": 20,
   "metadata": {
    "collapsed": false
   },
   "outputs": [
    {
     "data": {
      "text/plain": [
       "<matplotlib.text.Text at 0x1195e2978>"
      ]
     },
     "execution_count": 20,
     "metadata": {},
     "output_type": "execute_result"
    },
    {
     "data": {
      "image/png": "[encoded data removed]",
      "text/plain": [
       "<matplotlib.figure.Figure at 0x11963ccf8>"
      ]
     },
     "metadata": {},
     "output_type": "display_data"
    }
   ],
   "source": [
    "plt.fill_between(x=np.arange(0,1,0.01),\n",
    "                 y1= stats.expon.pdf(np.arange(0,1,0.01)),\n",
    "                 facecolor='blue',\n",
    "                 alpha=0.35)\n",
    "\n",
    "plt.fill_between(x=np.arange(1,7,0.01),\n",
    "                 y1= stats.expon.pdf(np.arange(1,7,0.01)),\n",
    "                 facecolor='red',\n",
    "                 alpha=0.35)\n",
    "\n",
    "plt.text(x=0.3,y=0.2,s=round(prob_1,3))\n",
    "plt.text(x=1.5,y=0.08,s=round(1-prob_1,3))"
   ]
  },
  {
   "cell_type": "markdown",
   "metadata": {},
   "source": [
    "# The Poisson Distribution\n",
    "* 离散型随机变量，用于估计特定时间段或空间段内，某件事发生的次数（例如15分钟内，公交车到达的数量）\n",
    "* 发生次数的概率。（15分钟内，公交车到达数量为X的概率）\n",
    "![a](a.png)"
   ]
  },
  {
   "cell_type": "code",
   "execution_count": 21,
   "metadata": {
    "collapsed": false
   },
   "outputs": [
    {
     "name": "stdout",
     "output_type": "stream",
     "text": [
      "col_0      0     1     2    3    4   5  6  7\n",
      "row_0                                       \n",
      "counts  3645  3665  1887  618  161  20  3  1\n"
     ]
    },
    {
     "data": {
      "text/plain": [
       "array([[<matplotlib.axes._subplots.AxesSubplot object at 0x11a5a24e0>]], dtype=object)"
      ]
     },
     "execution_count": 21,
     "metadata": {},
     "output_type": "execute_result"
    },
    {
     "data": {
      "image/png": "[encoded data removed]",
      "text/plain": [
       "<matplotlib.figure.Figure at 0x11a5900b8>"
      ]
     },
     "metadata": {},
     "output_type": "display_data"
    }
   ],
   "source": [
    "np.random.seed(1)\n",
    "\n",
    "arrival_rate_1 = stats.poisson.rvs(size=10000,\n",
    "                                   mu=1)\n",
    "\n",
    "print(pd.crosstab(index='counts',columns=arrival_rate_1))\n",
    "\n",
    "pd.DataFrame(arrival_rate_1).hist(range=(-.5,max(arrival_rate_1)+0.5),\n",
    "                                  bins = max(arrival_rate_1)+1)\n",
    "\n",
    "# col_0:到达0、1、2、..7次的频数\n",
    "# 观察发现：每个时间段到达6或7次的（频数）很少；频数大的次数是0、1， 或者说某时间段里到达数为0、1的概率很大。"
   ]
  },
  {
   "cell_type": "code",
   "execution_count": 22,
   "metadata": {
    "collapsed": false
   },
   "outputs": [
    {
     "name": "stdout",
     "output_type": "stream",
     "text": [
      "col_0   0   1   2   3    4    5    6    7     8     9  ...   15   16   17  18  \\\n",
      "row_0                                                  ...                      \n",
      "Counts   2   3  32  84  154  385  623  949  1093  1286 ...  345  227  110  65   \n",
      "\n",
      "col_0   19  20  21  22  23  24  \n",
      "row_0                           \n",
      "Counts  27  15   4   6   2   2  \n",
      "\n",
      "[1 rows x 25 columns]\n"
     ]
    },
    {
     "data": {
      "text/plain": [
       "array([[<matplotlib.axes._subplots.AxesSubplot object at 0x11ac50cf8>]], dtype=object)"
      ]
     },
     "execution_count": 22,
     "metadata": {},
     "output_type": "execute_result"
    },
    {
     "data": {
      "image/png": "[encoded data removed]",
      "text/plain": [
       "<matplotlib.figure.Figure at 0x119e27748>"
      ]
     },
     "metadata": {},
     "output_type": "display_data"
    }
   ],
   "source": [
    "#当到达率μ变大时，到达0、1次的频数也变小，分布变得对称：\n",
    "np.random.seed(1)\n",
    "arrival_rate_10 = stats.poisson.rvs(size=10000,\n",
    "                                     mu=10)\n",
    "\n",
    "print(pd.crosstab(index='Counts',columns=arrival_rate_10))\n",
    "\n",
    "pd.DataFrame(arrival_rate_10).hist(range=(-0.5,max(arrival_rate_10)+0.5),\n",
    "                                   bins = max(arrival_rate_10)+1)"
   ]
  },
  {
   "cell_type": "code",
   "execution_count": 23,
   "metadata": {
    "collapsed": false
   },
   "outputs": [
    {
     "data": {
      "text/plain": [
       "0.067085962879031888"
      ]
     },
     "execution_count": 23,
     "metadata": {},
     "output_type": "execute_result"
    }
   ],
   "source": [
    "#cdf() to check the probability of achieving more or less than a certain number of successes \n",
    "stats.poisson.cdf(k=5,     # Check the probability of 5 arrivals or less.\n",
    "                  mu=10)   # With arrival rate 10."
   ]
  },
  {
   "cell_type": "code",
   "execution_count": 24,
   "metadata": {
    "collapsed": false
   },
   "outputs": [
    {
     "data": {
      "text/plain": [
       "0.12511003572113372"
      ]
     },
     "execution_count": 24,
     "metadata": {},
     "output_type": "execute_result"
    }
   ],
   "source": [
    "# pmf() to check the probability of obtaining [a specific number ]of successes:\n",
    "stats.poisson.pmf(k=10,     # Check the prob f exactly 10 arrivals\n",
    "                  mu=10)    # With arrival rate 10"
   ]
  }
 ],
 "metadata": {
  "kernelspec": {
   "display_name": "Python 3",
   "language": "python",
   "name": "python3"
  },
  "language_info": {
   "codemirror_mode": {
    "name": "ipython",
    "version": 3
   },
   "file_extension": ".py",
   "mimetype": "text/x-python",
   "name": "python",
   "nbconvert_exporter": "python",
   "pygments_lexer": "ipython3",
   "version": "3.5.2"
  }
 },
 "nbformat": 4,
 "nbformat_minor": 0
}

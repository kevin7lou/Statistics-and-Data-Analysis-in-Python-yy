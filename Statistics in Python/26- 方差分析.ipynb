{
 "cells": [
  {
   "cell_type": "markdown",
   "metadata": {},
   "source": [
    "t-test，用于比较来自两个总体的样本【均值】的差异。但我们想比较两组以上呢？也许可以两两之间进行多次t-test，但这会增加发生假阳的风险。\n",
    "在此，介绍方差分析ANOVA，可以同时比较多个group之间的【均值】差异。group的意思是总体或者 自变量的不同水平，比如下文中一个分类变量race可以分为5组\n",
    "\n",
    "注意：ANOVA 讨论的对象是  【均值】差异；\n",
    "\n",
    "     One-Sample t-test 【均值】差异；\n",
    "     \n",
    "     Two-Sample t-test 【均值】差异；\n",
    "     \n",
    "     pair t-test       【不涉及均值】；\n",
    "     \n",
    "* scipy.stats.f_oneway()         \n",
    "* statsmodels.stats.multicomp.pairwise_tukeyhsd()   事后检验 "
   ]
  },
  {
   "cell_type": "markdown",
   "metadata": {},
   "source": [
    "# One-Way ANOVA"
   ]
  },
  {
   "cell_type": "markdown",
   "metadata": {},
   "source": [
    "one-way ANOVA 用于比较2个以上group【均值】的差异，只适用于数值数据。它本质回答的是：是否任一个group的均值不同于另一个。这里我们不详细讲计算过程，因为比t-test涉及更多计算，但过程是类似的：\n",
    "1. 计算出检验统计量\n",
    "2. 基于某种分布，比较检验统计量与临界值或者p-value法\n",
    "3. 在ANOVA中，我们使用F-distribution\n",
    "\n",
    "scipy.stats.f_oneway()可以实现该检验"
   ]
  },
  {
   "cell_type": "code",
   "execution_count": 1,
   "metadata": {
    "collapsed": true
   },
   "outputs": [],
   "source": [
    "import pandas as pd\n",
    "import numpy as np\n",
    "import scipy.stats as stats\n",
    "import matplotlib.pyplot as plt\n",
    "%matplotlib inline"
   ]
  },
  {
   "cell_type": "code",
   "execution_count": 2,
   "metadata": {
    "collapsed": false
   },
   "outputs": [
    {
     "data": {
      "text/plain": [
       "F_onewayResult(statistic=1.7744689357329695, pvalue=0.13173183201930463)"
      ]
     },
     "execution_count": 2,
     "metadata": {},
     "output_type": "execute_result"
    }
   ],
   "source": [
    "#例：对选民年龄和人口统计资料，使用ANOVA比较不同group的平均年龄\n",
    "# H0：多个group的年龄均值不显著不同\n",
    "# Ha: 多个group的年龄均值显著不同\n",
    "#构造数据集\n",
    "\n",
    "np.random.seed(12)\n",
    "\n",
    "races =   [\"asian\",\"black\",\"hispanic\",\"other\",\"white\"]\n",
    "\n",
    "# Generate random data\n",
    "voter_race = np.random.choice(a= races,\n",
    "                              p = [0.05, 0.15 ,0.25, 0.05, 0.5],\n",
    "                              size=1000)\n",
    "\n",
    "voter_age = stats.poisson.rvs(loc=18,\n",
    "                              mu=30,\n",
    "                              size=1000)\n",
    "\n",
    "# 年龄数据集：\n",
    "voter_frame = pd.DataFrame({\"race\":voter_race,\"age\":voter_age})\n",
    "gb = voter_frame.groupby(\"race\")\n",
    "groups = gb.groups       # .groupby()之后有groups方法：转化成字典dict {group name -> group labels} \n",
    "\n",
    "# Etract individual groups\n",
    "asian = voter_age[groups[\"asian\"]]  # 得到每个年龄列\n",
    "black = voter_age[groups[\"black\"]]\n",
    "hispanic = voter_age[groups[\"hispanic\"]]\n",
    "other = voter_age[groups[\"other\"]]\n",
    "white = voter_age[groups[\"white\"]]\n",
    "\n",
    "# Perform the ANOVA\n",
    "stats.f_oneway(asian, black, hispanic, other, white)"
   ]
  },
  {
   "cell_type": "markdown",
   "metadata": {},
   "source": [
    "F-statistic: 1.774 \n",
    "\n",
    "p-value: 0.1317 > 0.05 不拒绝H0。there is no significant difference between **【the means of each group】**.即各组年龄来自同一（泊松）分布。"
   ]
  },
  {
   "cell_type": "markdown",
   "metadata": {},
   "source": [
    "### Now let's make new age data where the group means do differ and run a second ANOVA:"
   ]
  },
  {
   "cell_type": "code",
   "execution_count": 10,
   "metadata": {
    "collapsed": false
   },
   "outputs": [
    {
     "data": {
      "text/plain": [
       "F_onewayResult(statistic=10.164699828386366, pvalue=4.5613242113994585e-08)"
      ]
     },
     "execution_count": 10,
     "metadata": {},
     "output_type": "execute_result"
    }
   ],
   "source": [
    "np.random.seed(12)\n",
    "\n",
    "# Generate random data\n",
    "voter_race = np.random.choice(a= races,\n",
    "                              p = [0.05, 0.15 ,0.25, 0.05, 0.5],\n",
    "                              size=1000)\n",
    "\n",
    "# Use a different distribution for white ages\n",
    "white_ages = stats.poisson.rvs(loc=18, \n",
    "                              mu=32,\n",
    "                              size=1000)\n",
    "                                            #white_ages 和 voter_age 来自不同分布\n",
    "voter_age = stats.poisson.rvs(loc=18,\n",
    "                              mu=30,\n",
    "                              size=1000)\n",
    "\n",
    "voter_age = np.where(voter_race==\"white\", white_ages, voter_age) \n",
    "\n",
    "# Group age data by race\n",
    "voter_frame = pd.DataFrame({\"race\":voter_race,\"age\":voter_age})\n",
    "groups = voter_frame.groupby(\"race\").groups   \n",
    "\n",
    "# Extract individual groups\n",
    "asian = voter_age[groups[\"asian\"]]\n",
    "black = voter_age[groups[\"black\"]]\n",
    "hispanic = voter_age[groups[\"hispanic\"]]\n",
    "other = voter_age[groups[\"other\"]]\n",
    "white = voter_age[groups[\"white\"]]\n",
    "\n",
    "#Perform the ANOVA\n",
    "stats.f_oneway(asian,black,hispanic,other,white)"
   ]
  },
  {
   "cell_type": "markdown",
   "metadata": {},
   "source": [
    "p << 1% ,拒绝H0。所以各组样本均值显著不同"
   ]
  },
  {
   "cell_type": "markdown",
   "metadata": {},
   "source": [
    "## 事后检验“post-hoc test\"\n",
    "这里自定义了white_ages作为差异变量，但在实际中，【ANOVA检验出了显著不同，即各group是独立样本】（后面用.ttest_ind()的前提），但并不知道具体是哪个group(s)导致。为此，我们进行事后检验“post-hoc test\".\n",
    "\n",
    "一个方法是： 对所有groups 两两进行t-test\n",
    "\n",
    "stats.ttest_ind()"
   ]
  },
  {
   "cell_type": "code",
   "execution_count": 27,
   "metadata": {
    "collapsed": false
   },
   "outputs": [
    {
     "name": "stdout",
     "output_type": "stream",
     "text": [
      "asian black\n",
      "Ttest_indResult(statistic=0.83864469097479799, pvalue=0.4027281369339345)\n",
      "asian hispanic\n",
      "Ttest_indResult(statistic=-0.42594691924932293, pvalue=0.67046690042407264)\n",
      "asian other\n",
      "Ttest_indResult(statistic=0.97952847396359999, pvalue=0.32988775000951509)\n",
      "asian white\n",
      "Ttest_indResult(statistic=-2.3181088112522881, pvalue=0.020804701566400217)\n",
      "black hispanic\n",
      "Ttest_indResult(statistic=-1.9527839210712925, pvalue=0.051561971719525937)\n",
      "black other\n",
      "Ttest_indResult(statistic=0.28025754367057176, pvalue=0.77957701111176592)\n",
      "black white\n",
      "Ttest_indResult(statistic=-5.3793038812818352, pvalue=1.039421216662395e-07)\n",
      "hispanic other\n",
      "Ttest_indResult(statistic=1.5853626170340225, pvalue=0.11396630528484335)\n",
      "hispanic white\n",
      "Ttest_indResult(statistic=-3.5160312714115376, pvalue=0.00046412986490666839)\n",
      "other white\n",
      "Ttest_indResult(statistic=-3.7638093220778721, pvalue=0.00018490576317593065)\n"
     ]
    }
   ],
   "source": [
    "# Get all race pairs\n",
    "race_pairs = []\n",
    "import itertools     \n",
    "race_pairs=list(itertools.combinations(races,2)) # 组合\n",
    "\n",
    "# Conduct t-test on each pair\n",
    "for race1, race2 in race_pairs: \n",
    "    print(race1, race2)\n",
    "    print(stats.ttest_ind(voter_age[groups[race1]], \n",
    "                          voter_age[groups[race2]])) "
   ]
  },
  {
   "cell_type": "markdown",
   "metadata": {},
   "source": [
    "The p-values for each pairwise t-test suggest mean of **white voters** is likely different from the other groups, since the p-values for each t-test involving the white group is** below 0.05**. \n",
    "![combination](combination.png)"
   ]
  },
  {
   "cell_type": "markdown",
   "metadata": {},
   "source": [
    "### Bonferroni correction.\n",
    "\n",
    "使用 未经校正的 pairwise t-test 可能会高估显著性，因为比较次数越多，坏事即使发生概率很小，次数多了也越容易碰上。为此，可以对多重比较问题进行校正。\n",
    "\n",
    "校正方式是：显著性水平 / 比较的数量。比如本例中α=0.05，那么用于每一假设的显著水平为 0.05/10，即每一comparison，我们就想要 p-value ≤ 0.05/10 =0.005 来拒绝H0.\n",
    "\n",
    "      ——This simple adjustment for multiple comparisons is known as the Bonferroni correction.\n",
    "      \n",
    "### Bonferroni法的适用性：\n",
    "当比较次数不多时,Bonferroni法的效果较好.\n",
    "\n",
    "但当比较次数较多(例如在10次以上)时,由于其检验水平选择得过低,结论偏于保守——稍大一点点的p-value，就能接受H0,而实际上是显著不同的."
   ]
  },
  {
   "cell_type": "markdown",
   "metadata": {},
   "source": [
    "### Tukey's test.\n",
    "因此，有另一个常用的post-hoc test: Tukey's test\n",
    "\n",
    "__pairwise_tukeyhsd()__:"
   ]
  },
  {
   "cell_type": "code",
   "execution_count": 28,
   "metadata": {
    "collapsed": false
   },
   "outputs": [
    {
     "data": {
      "text/html": [
       "<table class=\"simpletable\">\n",
       "<caption>Multiple Comparison of Means - Tukey HSD,FWER=0.05</caption>\n",
       "<tr>\n",
       "   <th>group1</th>   <th>group2</th>  <th>meandiff</th>  <th>lower</th>   <th>upper</th> <th>reject</th>\n",
       "</tr>\n",
       "<tr>\n",
       "    <td>asian</td>    <td>black</td>   <td>-0.8032</td> <td>-3.4423</td>  <td>1.836</td>  <td>False</td>\n",
       "</tr>\n",
       "<tr>\n",
       "    <td>asian</td>  <td>hispanic</td>  <td>0.4143</td>  <td>-2.1011</td> <td>2.9297</td>  <td>False</td>\n",
       "</tr>\n",
       "<tr>\n",
       "    <td>asian</td>    <td>other</td>   <td>-1.0645</td> <td>-4.2391</td>  <td>2.11</td>   <td>False</td>\n",
       "</tr>\n",
       "<tr>\n",
       "    <td>asian</td>    <td>white</td>   <td>1.9547</td>  <td>-0.4575</td> <td>4.3668</td>  <td>False</td>\n",
       "</tr>\n",
       "<tr>\n",
       "    <td>black</td>  <td>hispanic</td>  <td>1.2175</td>  <td>-0.386</td>   <td>2.821</td>  <td>False</td>\n",
       "</tr>\n",
       "<tr>\n",
       "    <td>black</td>    <td>other</td>   <td>-0.2614</td> <td>-2.7757</td>  <td>2.253</td>  <td>False</td>\n",
       "</tr>\n",
       "<tr>\n",
       "    <td>black</td>    <td>white</td>   <td>2.7579</td>  <td>1.3217</td>   <td>4.194</td>  <td>True</td> \n",
       "</tr>\n",
       "<tr>\n",
       "  <td>hispanic</td>   <td>other</td>   <td>-1.4789</td> <td>-3.863</td>  <td>0.9053</td>  <td>False</td>\n",
       "</tr>\n",
       "<tr>\n",
       "  <td>hispanic</td>   <td>white</td>   <td>1.5404</td>  <td>0.3468</td>   <td>2.734</td>  <td>True</td> \n",
       "</tr>\n",
       "<tr>\n",
       "    <td>other</td>    <td>white</td>   <td>3.0192</td>  <td>0.7443</td>  <td>5.2941</td>  <td>True</td> \n",
       "</tr>\n",
       "</table>"
      ],
      "text/plain": [
       "<class 'statsmodels.iolib.table.SimpleTable'>"
      ]
     },
     "execution_count": 28,
     "metadata": {},
     "output_type": "execute_result"
    },
    {
     "data": {
      "image/png": "[encoded data removed]",
      "text/plain": [
       "<matplotlib.figure.Figure at 0x10108c518>"
      ]
     },
     "metadata": {},
     "output_type": "display_data"
    }
   ],
   "source": [
    "from statsmodels.stats.multicomp import pairwise_tukeyhsd\n",
    "\n",
    "tukey = pairwise_tukeyhsd(endog=voter_age,    #Data         response variable    行和列需要分别指定，不能用pandas一次传入df\n",
    "                          groups=voter_race,  #Groups      can be string or integers   \n",
    "                          alpha=0.05)         #Significance level\n",
    "\n",
    "tukey.plot_simultaneous()      # Plot group confidene intervals\n",
    "plt.vlines(x=49.51, ymin=-0.5, ymax=4.5, color='red')\n",
    "\n",
    "tukey.summary()              # See test summary"
   ]
  },
  {
   "cell_type": "markdown",
   "metadata": {},
   "source": [
    "表中可以看出：\n",
    "\n",
    "* 有3组Reject H0，每组都涉及‘white’，这表明‘white’可能与其他组都不同；\n",
    "\n",
    "95%置信区间图也显示：\n",
    "\n",
    "* 只有一组置信区间与‘white’的 重叠"
   ]
  },
  {
   "cell_type": "markdown",
   "metadata": {},
   "source": [
    "# Wrap up"
   ]
  },
  {
   "cell_type": "markdown",
   "metadata": {},
   "source": [
    "方差分析 ANOVA test 用于检验 【一个数值型因变量】 是否会根据 【一个分类型变量的不同水平】 而变异。\n",
    "\n",
    "Scipy 可以帮助实现ANOVA，避免陷入复杂的计算过程。\n",
    "\n",
    "若存在显著不同，可用 post-hoc test 来找出具体哪个group(s) 不同，常用方法有 Tukey's test——pairwise_tukeyhsd()"
   ]
  }
 ],
 "metadata": {
  "kernelspec": {
   "display_name": "Python 3",
   "language": "python",
   "name": "python3"
  },
  "language_info": {
   "codemirror_mode": {
    "name": "ipython",
    "version": 3
   },
   "file_extension": ".py",
   "mimetype": "text/x-python",
   "name": "python",
   "nbconvert_exporter": "python",
   "pygments_lexer": "ipython3",
   "version": "3.5.2"
  }
 },
 "nbformat": 4,
 "nbformat_minor": 0
}

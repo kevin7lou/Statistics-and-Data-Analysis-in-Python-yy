{
 "cells": [
  {
   "cell_type": "markdown",
   "metadata": {},
   "source": [
    "# Point Estimates and Confidence Intervals\n",
    "\n",
    "* 点估计\n",
    "\n",
    "* 抽样分布与中心极限定理，及作图\n",
    "\n",
    "* 置信区间及作图；边际误差公式：\n",
    "    * 总体标准差σ已知：z-critical value\n",
    "    * 总体标准差σ未知：t-critical value; t 分布\n",
    "\n",
    "* stats.distribution.interval(alpha=confidence,\n",
    "                              loc= sample_mean,\n",
    "                              scale=std/(n**0.5))\n"
   ]
  },
  {
   "cell_type": "code",
   "execution_count": 1,
   "metadata": {
    "collapsed": true
   },
   "outputs": [],
   "source": [
    "import pandas as pd\n",
    "import numpy as np\n",
    "import scipy.stats as stats\n",
    "import matplotlib.pyplot as plt\n",
    "import math\n",
    "%matplotlib inline"
   ]
  },
  {
   "cell_type": "markdown",
   "metadata": {},
   "source": [
    "## Point Estimates\n",
    "\n",
    "总体参数未知：计算样本参数，以作为总体参数的估计值"
   ]
  },
  {
   "cell_type": "markdown",
   "metadata": {},
   "source": [
    "例：美国大选，全国选民的平均年龄？样本平均年龄估计总体平均："
   ]
  },
  {
   "cell_type": "code",
   "execution_count": 4,
   "metadata": {
    "collapsed": false,
    "scrolled": true
   },
   "outputs": [
    {
     "data": {
      "text/plain": [
       "42.986683999999997"
      ]
     },
     "execution_count": 4,
     "metadata": {},
     "output_type": "execute_result"
    }
   ],
   "source": [
    "# 构造总体数据：\n",
    "np.random.seed(1234)\n",
    "population_ages1= stats.poisson.rvs(loc=18,mu=35,size=150000)\n",
    "population_ages2= stats.poisson.rvs(loc=18,mu=10,size=100000)\n",
    "population_ages= np.concatenate((population_ages1,population_ages2))\n",
    "\n",
    "population_ages.mean() #真实的总体均值"
   ]
  },
  {
   "cell_type": "markdown",
   "metadata": {
    "collapsed": true
   },
   "source": [
    "np.random.choice?"
   ]
  },
  {
   "cell_type": "code",
   "execution_count": 3,
   "metadata": {
    "collapsed": false
   },
   "outputs": [
    {
     "name": "stdout",
     "output_type": "stream",
     "text": [
      "42.104\n",
      "0.882684\n"
     ]
    }
   ],
   "source": [
    "# 随机抽样：\n",
    "np.random.seed(6)\n",
    "\n",
    "sample_ages = np.random.choice(a= population_ages,size=500) # sample 500 value \n",
    "\n",
    "print(sample_ages.mean())  # 样本均值，即总体均值的点估计\n",
    "print(population_ages.mean()-sample_ages.mean()) "
   ]
  },
  {
   "cell_type": "markdown",
   "metadata": {},
   "source": [
    "### 选民中各人种比例估计："
   ]
  },
  {
   "cell_type": "code",
   "execution_count": 5,
   "metadata": {
    "collapsed": false
   },
   "outputs": [],
   "source": [
    "import random\n",
    "random.seed(10)\n",
    "population_races = ([\"white\"]*100000) + ([\"black\"]*50000) +\\\n",
    "                   ([\"hispanic\"]*50000) + ([\"asian\"]*25000) +\\\n",
    "                   ([\"other\"]*25000)\n",
    "    \n",
    "demo_sample = random.sample(population_races, 1000)   # Sample 1000 values\n"
   ]
  },
  {
   "cell_type": "code",
   "execution_count": 6,
   "metadata": {
    "collapsed": false
   },
   "outputs": [
    {
     "name": "stdout",
     "output_type": "stream",
     "text": [
      "asian proportion estimate:\n",
      "0.099\n",
      "other proportion estimate:\n",
      "0.099\n",
      "hispanic proportion estimate:\n",
      "0.192\n",
      "white proportion estimate:\n",
      "0.379\n",
      "black proportion estimate:\n",
      "0.231\n"
     ]
    }
   ],
   "source": [
    "for race in set(demo_sample):                  # 唯一值的集合\n",
    "    print( race + \" proportion estimate:\" )\n",
    "    print( demo_sample.count(race)/1000 )"
   ]
  },
  {
   "cell_type": "markdown",
   "metadata": {},
   "source": [
    "## Sampling Distributions and The Central Limit Theorem"
   ]
  },
  {
   "cell_type": "markdown",
   "metadata": {},
   "source": [
    "样本的分布趋向总体的分布，如果总体分布是skewed，样本分布也会是skewed："
   ]
  },
  {
   "cell_type": "code",
   "execution_count": 22,
   "metadata": {
    "collapsed": false
   },
   "outputs": [
    {
     "name": "stdout",
     "output_type": "stream",
     "text": [
      "-0.12071085179560549\n"
     ]
    },
    {
     "data": {
      "image/png": "[encoded data removed]",
      "text/plain": [
       "<matplotlib.figure.Figure at 0x117481080>"
      ]
     },
     "metadata": {},
     "output_type": "display_data"
    }
   ],
   "source": [
    "pd.DataFrame(population_ages).hist(bins=58,          # 年龄分组组数为58\n",
    "                                  range=(17.5,75.5), # 年龄范围\n",
    "                                  figsize=(8,8))\n",
    "print(stats.skew(population_ages))                 # 总体的偏度\n"
   ]
  },
  {
   "cell_type": "markdown",
   "metadata": {},
   "source": [
    "上图可见：该分布偏度很小；不是正态分布，而是一个对称的钟形曲线，有2个峰的二项的双峰分布。那么，从该总体中抽样的样本分布也近似这个形状和偏度："
   ]
  },
  {
   "cell_type": "code",
   "execution_count": 23,
   "metadata": {
    "collapsed": false
   },
   "outputs": [
    {
     "name": "stdout",
     "output_type": "stream",
     "text": [
      "-0.06514140504366635\n"
     ]
    },
    {
     "data": {
      "image/png": "[encoded data removed]",
      "text/plain": [
       "<matplotlib.figure.Figure at 0x11a3da908>"
      ]
     },
     "metadata": {},
     "output_type": "display_data"
    }
   ],
   "source": [
    "# 样本的分布图\n",
    "pd.DataFrame(sample_ages).hist(bins=58,\n",
    "                               range=(17.5,75.5),\n",
    "                               figsize=(7,7))\n",
    "\n",
    "print(stats.skew(sample_ages))"
   ]
  },
  {
   "cell_type": "markdown",
   "metadata": {},
   "source": [
    "### 因为不是正态分布，我们也就不能用 适用于正态分布的技巧。庆幸的是，有 central limit theorem中心极限定理，它是概率统计中最重要的定理之一。\n",
    "* 一个总体可以有许多个样本，就有了许多个样本均值，这些样本均值的分布 被称为【抽样分布】，服从正态分布。\n",
    "* 即使总体分布自身不是正态分布，该定理也适用。\n",
    "* 因此，我们可以将样本均值当作一个随机变量，从正态分布中抽取的随机变量。"
   ]
  },
  {
   "cell_type": "markdown",
   "metadata": {},
   "source": [
    "具体地：\n",
    "\n",
    "创建一个抽样分布，方式为：从总体中抽取200个样本（每个样本里有n 行observations），然后做200个 总体均值的点估计（200 point estimates of the mean)："
   ]
  },
  {
   "cell_type": "code",
   "execution_count": 24,
   "metadata": {
    "collapsed": false
   },
   "outputs": [
    {
     "data": {
      "text/plain": [
       "<matplotlib.axes._subplots.AxesSubplot at 0x11ab36e80>"
      ]
     },
     "execution_count": 24,
     "metadata": {},
     "output_type": "execute_result"
    },
    {
     "data": {
      "image/png": "[encoded data removed]",
      "text/plain": [
       "<matplotlib.figure.Figure at 0x11ab00ac8>"
      ]
     },
     "metadata": {},
     "output_type": "display_data"
    }
   ],
   "source": [
    "np.random.seed(10)\n",
    "\n",
    "point_estimates = []\n",
    "\n",
    "for x in range(200):             \n",
    "    sample = np.random.choice(a=population_ages,size=500)\n",
    "    point_estimates.append(sample.mean())\n",
    "    \n",
    "pd.DataFrame(point_estimates).plot(kind='density',\n",
    "                                   figsize=(9,9),\n",
    "                                  xlim = (41,45))"
   ]
  },
  {
   "cell_type": "markdown",
   "metadata": {},
   "source": [
    "上图可以看出，抽样分布近似正态分布，尽管抽样来自非正态的、双峰的总体分布。而且，抽样分布的均值接近真实的总体均值："
   ]
  },
  {
   "cell_type": "code",
   "execution_count": 26,
   "metadata": {
    "collapsed": false
   },
   "outputs": [
    {
     "data": {
      "text/plain": [
       "-0.078246000000000038"
      ]
     },
     "execution_count": 26,
     "metadata": {},
     "output_type": "execute_result"
    }
   ],
   "source": [
    "population_ages.mean()- np.mean(point_estimates)\n",
    "\n",
    "#The more samples we take, the better our estimate of the population parameter is likely to be."
   ]
  },
  {
   "cell_type": "markdown",
   "metadata": {},
   "source": [
    "## Confidence Intervals 置信区间"
   ]
  },
  {
   "cell_type": "markdown",
   "metadata": {},
   "source": [
    "A confidence interval is a range of values above and below a point estimate that captures the true population parameter __at some predetermined confidence level__. For example, if you want to **have a 95% chance of capturing** the true population parameter with a point estimate and a corresponding confidence interval, you'd set your confidence level to 95%. __Higher confidence levels result in a wider confidence intervals.__\n",
    "!['总体标准差已知'](1.png)"
   ]
  },
  {
   "cell_type": "code",
   "execution_count": 32,
   "metadata": {
    "collapsed": false
   },
   "outputs": [
    {
     "name": "stdout",
     "output_type": "stream",
     "text": [
      "z-value:  1.95996398454\n",
      "Confidence interval: \n",
      " (41.501933037831968, 43.140066962168028)\n"
     ]
    }
   ],
   "source": [
    "# to get z-critical values with stats.norm.ppf()\n",
    "\n",
    "np.random.seed(10)\n",
    "sample_size = 1000\n",
    "\n",
    "sample = np.random.choice(a = population_ages,size=sample_size)\n",
    "sample_mean = sample.mean()\n",
    "\n",
    "\n",
    "z_critical = stats.norm.ppf(q = 0.975) # percent point function,inverse of cdf.已知面积(概率），返回百分位点（横坐标）\n",
    "\n",
    "print('z-value: ', z_critical)\n",
    "\n",
    "pop_stdev = population_ages.std()   # Get the population standard deviation\n",
    "\n",
    "margin_of_error = z_critical * (pop_stdev/math.sqrt(sample_size))\n",
    "\n",
    "confidence_interval = (sample_mean - margin_of_error,\n",
    "                       sample_mean + margin_of_error)\n",
    "\n",
    "print(\"Confidence interval: \\n\",confidence_interval)"
   ]
  },
  {
   "cell_type": "markdown",
   "metadata": {},
   "source": [
    "*Note: We use stats.norm.ppf(q = 0.975) to get the desired z-critical value instead of q = 0.95 because the distribution has two tails."
   ]
  },
  {
   "cell_type": "markdown",
   "metadata": {},
   "source": [
    "通过作图理解置信区间：\n",
    "\n",
    "plt.errorbar()"
   ]
  },
  {
   "cell_type": "markdown",
   "metadata": {
    "collapsed": false
   },
   "source": [
    "### 同一个总体抽样25次，做25个置信区间并作图：\n",
    "\n",
    "np.random.seed(12)\n",
    "sample_size = 1000\n",
    "intervals = []\n",
    "sample_means = []\n",
    "\n",
    "for sample in range(25):\n",
    "    sample = np.random.choice(a = population_ages,size=sample_size)\n",
    "    sample_mean=sample.mean()\n",
    "    sample_means.append(sample.mean())\n",
    "    \n",
    "    z_critical = stats.norm.ppf(q=0.975)\n",
    "    pop_stdev = population_ages.std()\n",
    "    margin_of_error = z_critical * (pop_stdev/np.sqrt(sample_size))\n",
    "    \n",
    "    confidence_interval = (sample_mean - margin_of_error,sample_mean + margin_of_error)\n",
    "    intervals.append(confidence_interval)"
   ]
  },
  {
   "cell_type": "code",
   "execution_count": 8,
   "metadata": {
    "collapsed": false
   },
   "outputs": [
    {
     "data": {
      "text/plain": [
       "<matplotlib.text.Text at 0x119e955f8>"
      ]
     },
     "execution_count": 8,
     "metadata": {},
     "output_type": "execute_result"
    },
    {
     "data": {
      "image/png": "[encoded data removed]",
      "text/plain": [
       "<matplotlib.figure.Figure at 0x1145e5668>"
      ]
     },
     "metadata": {},
     "output_type": "display_data"
    }
   ],
   "source": [
    "plt.figure(figsize=(8,8))\n",
    "\n",
    "plt.errorbar(x=np.arange(0.1,25,1),                 \n",
    "             y=sample_means,\n",
    "            yerr=[(top-bot)/2 for top,bot in intervals],\n",
    "             fmt='o')\n",
    "\n",
    "plt.hlines(xmin=0,xmax=25,\n",
    "           y = 43.0023,\n",
    "           linewidth = 2.0,\n",
    "           color = 'red')\n",
    "\n",
    "plt.text(x=25,y=43,s='True mean')"
   ]
  },
  {
   "cell_type": "markdown",
   "metadata": {},
   "source": [
    "上图可以看出，all but one 置信区间都与真实的总体均值重叠，这也正如所料，95%的置信水平即 captures the true mean 95% of the time，5%的容错，这里为1/25约等于5%"
   ]
  },
  {
   "cell_type": "markdown",
   "metadata": {},
   "source": [
    "### 当总体标准差σ未知，\n",
    "* 此时总体均值μ和σ均未知，求置信区间时，需要 用样本标准差 来估计出 总体标准差 再代入.\n",
    "* 但这样可能放大误差，因此我们用t-critical value 来代替 z-critical value. \n",
    "* t-criticl value  取自 t 分布\n",
    "* t distribution 非常近似正态分布，样本容量越小，t分布会变得越宽；当样本容量很大时，t分布逼近正态分布\n",
    "* 使用t分布必须提供参数“自由度” : df = 样本容量n - 1;因此n 越大即df 越大，越近似正态分布，如下图\n",
    "* __scipy.stats.t.ppf()__  ：t-critical value\n",
    "* ![t](b.png) ![t](c.png)"
   ]
  },
  {
   "cell_type": "code",
   "execution_count": 51,
   "metadata": {
    "collapsed": false
   },
   "outputs": [
    {
     "name": "stdout",
     "output_type": "stream",
     "text": [
      "t-critical value:  2.06389856163\n",
      "Confidence interval:\n",
      "(37.667448793806457, 47.292551206193536)\n"
     ]
    }
   ],
   "source": [
    "np.random.seed(10)\n",
    "\n",
    "sample_size = 25\n",
    "sample = np.random.choice(a = population_ages,size = sample_size)\n",
    "sample_mean = sample.mean()\n",
    "\n",
    "t_critical = stats.t.ppf(q = 0.975, df=24)  # Get the t-critical value*\n",
    "\n",
    "print(\"t-critical value: \", t_critical)     # Check the t-critical value\n",
    "\n",
    "sample_stdev = sample.std()        # Get the sample standard deviation\n",
    "\n",
    "sigma = sample_stdev/math.sqrt(sample_size)  # Standard deviation estimate\n",
    "margin_of_error = t_critical * sigma\n",
    "\n",
    "confidence_interval = (sample_mean - margin_of_error,\n",
    "                       sample_mean + margin_of_error)  \n",
    "\n",
    "print(\"Confidence interval:\")\n",
    "print(confidence_interval)"
   ]
  },
  {
   "cell_type": "markdown",
   "metadata": {},
   "source": [
    "* 注意，当用于95%置信区间时，，t-critical 比 z-critical 大，使得边际误差变大、区间变宽，以容纳 【用样本标准差估计 替代 总体标准差】放大的误差。\n",
    "* 如果使用大样本，实际上，自由度大于100时，t值会很好地近似 【标准正态的z值】："
   ]
  },
  {
   "cell_type": "code",
   "execution_count": 52,
   "metadata": {
    "collapsed": false,
    "scrolled": true
   },
   "outputs": [
    {
     "data": {
      "text/plain": [
       "0.0023774765933946007"
      ]
     },
     "execution_count": 52,
     "metadata": {},
     "output_type": "execute_result"
    }
   ],
   "source": [
    "# Check the difference between critical values with a sample size of 1000\n",
    "stats.t.ppf(q = 0.975,df=999) - stats.norm.ppf(q=0.975)"
   ]
  },
  {
   "cell_type": "markdown",
   "metadata": {},
   "source": [
    "* 实际上可用stats.t.interval() 计算置信区间"
   ]
  },
  {
   "cell_type": "code",
   "execution_count": 53,
   "metadata": {
    "collapsed": false
   },
   "outputs": [
    {
     "data": {
      "text/plain": [
       "(37.667448793806457, 47.292551206193536)"
      ]
     },
     "execution_count": 53,
     "metadata": {},
     "output_type": "execute_result"
    }
   ],
   "source": [
    "stats.t.interval(alpha = 0.95,       # confidence level\n",
    "                 df = 24,            # degree of freedom\n",
    "                 loc = sample_mean,  # sample mean\n",
    "                 scale = sigma)      # standard deviation estimate"
   ]
  },
  {
   "cell_type": "markdown",
   "metadata": {},
   "source": [
    "### 总体比率的区间估计\n",
    "![2](d.png)"
   ]
  },
  {
   "cell_type": "code",
   "execution_count": 55,
   "metadata": {
    "collapsed": false
   },
   "outputs": [
    {
     "name": "stdout",
     "output_type": "stream",
     "text": [
      "(0.16758794241348748, 0.21641205758651252)\n"
     ]
    }
   ],
   "source": [
    "#已知样本中，西班牙裔选民占比0.192，求总体中西班牙裔的占比\n",
    "\n",
    "z_critical = stats.norm.ppf(0.975)\n",
    "\n",
    "p = 0.192\n",
    "\n",
    "n = 1000\n",
    "\n",
    "margin_of_error = z_critical * (np.sqrt((p*(1-p))/n))\n",
    "\n",
    "p_confidence_interval = (p - margin_of_error, p + margin_of_error)\n",
    "\n",
    "print(p_confidence_interval)"
   ]
  },
  {
   "cell_type": "markdown",
   "metadata": {},
   "source": [
    "* **stats.distribution.interval()** function to calculate a confidence interval"
   ]
  },
  {
   "cell_type": "code",
   "execution_count": 56,
   "metadata": {
    "collapsed": false
   },
   "outputs": [
    {
     "data": {
      "text/plain": [
       "(0.16758794241348748, 0.21641205758651252)"
      ]
     },
     "execution_count": 56,
     "metadata": {},
     "output_type": "execute_result"
    }
   ],
   "source": [
    "# 此例中，根据中心极限定理，变量（p均值） 的抽样分布 服从正态分布：\n",
    "stats.norm.interval(alpha = 0.95,\n",
    "                    loc = 0.192,                   # Point estimate of proportion\n",
    "                    scale = math.sqrt((p*(1-p))/n)) "
   ]
  }
 ],
 "metadata": {
  "kernelspec": {
   "display_name": "Python 3",
   "language": "python",
   "name": "python3"
  },
  "language_info": {
   "codemirror_mode": {
    "name": "ipython",
    "version": 3
   },
   "file_extension": ".py",
   "mimetype": "text/x-python",
   "name": "python",
   "nbconvert_exporter": "python",
   "pygments_lexer": "ipython3",
   "version": "3.5.2"
  }
 },
 "nbformat": 4,
 "nbformat_minor": 0
}

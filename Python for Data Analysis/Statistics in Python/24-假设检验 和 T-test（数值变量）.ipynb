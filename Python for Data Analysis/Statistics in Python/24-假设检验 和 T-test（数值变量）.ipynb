{
 "cells": [
  {
   "cell_type": "markdown",
   "metadata": {},
   "source": [
    "* 统计假设检验是一套思路框架，用于决策观测数据是否偏离我们的期望，样本是否与总体显著相同。\n",
    "* 什么情况下用T-test：\n",
    "\n",
    "\n",
    "    * One-Sample T-test: \n",
    "            stats.ttest_1samp() Calculates the T-test for the 【mean】 of ONE group of scores.\n",
    "    * Two-Sample T-test: \n",
    "            stats.ttest_ind()  Calculates the T-test for the 【means】 of TWO INDEPENDENT samples of scores.  \n",
    "    * paired T-test:     \n",
    "            stats.ttest_rel()  Calculates the T-test on TWO RELATED samples of scores"
   ]
  },
  {
   "cell_type": "markdown",
   "metadata": {},
   "source": [
    "# Hypothesis Testing Basics"
   ]
  },
  {
   "cell_type": "markdown",
   "metadata": {},
   "source": [
    "* __null hypothesis__: that assumes nothing interesting is going on between whatever variables you are testing.倾向\"不变的“、=\n",
    "* __alternative hypothesis__: that something interesting is going on.倾向”发生改变的“、≠\n",
    "\n",
    "\n",
    "* 有了假设，选定某个显著性水平α：概率阈值，判断是否拒绝原假设，容错率。\n",
    "* __p-value 是一个概率值，度量（拒绝原假设的）证据的充分程度，值越小，支持原假设的证据越少，越足以拒绝原假设__\n",
    "  * 检验结果p-value 小于等于显著性水平，拒绝原假设，“显著”不同\n",
    "  * 检验结果p-value 高于显著性水平，不拒绝原假设，“不显著”不同——同\n",
    "  \n",
    "* test statistic 检验统计量：它的值用于确定是否拒绝原假设\n",
    "\n",
    "\n",
    "* **t 即对应t 分布，前提“总体标准差σ未知”，需要计算standard dev estimate**"
   ]
  },
  {
   "cell_type": "markdown",
   "metadata": {},
   "source": [
    "## One-Sample T-Test\n",
    "检验一个样本均值是否不同于总体均值。\n",
    "\n",
    "To conduct a one sample t-test, we can the stats.ttest_1samp() function\n"
   ]
  },
  {
   "cell_type": "code",
   "execution_count": 1,
   "metadata": {
    "collapsed": true
   },
   "outputs": [],
   "source": [
    "import pandas as pd\n",
    "import numpy as np\n",
    "import matplotlib.pyplot as plt\n",
    "import scipy.stats as stats\n",
    "%matplotlib inline\n",
    "import math"
   ]
  },
  {
   "cell_type": "markdown",
   "metadata": {},
   "source": [
    "我们故意构造两个均值不等的数据集，然后看看t-test是效果:"
   ]
  },
  {
   "cell_type": "code",
   "execution_count": 2,
   "metadata": {
    "collapsed": false
   },
   "outputs": [
    {
     "name": "stdout",
     "output_type": "stream",
     "text": [
      "43.000112\n",
      "39.26\n"
     ]
    }
   ],
   "source": [
    "#构造数据:\n",
    "np.random.seed(6)\n",
    "\n",
    "population_ages1 = stats.poisson.rvs(loc=18,mu =35,size=150000)\n",
    "population_ages2 = stats.poisson.rvs(loc=18,mu =10,size=100000)\n",
    "population_ages = np.concatenate((population_ages1,population_ages2))\n",
    "\n",
    "minnesota_ages1 = stats.poisson.rvs(loc=18,mu=30,size=30)\n",
    "minnesota_ages2 = stats.poisson.rvs(loc=18,mu=10,size=20)\n",
    "minnesota_ages = np.concatenate((minnesota_ages1,minnesota_ages2))\n",
    "\n",
    "print(population_ages.mean())  # 总体年龄均值\n",
    "print(minnesota_ages.mean())   # 明尼苏达州选民的年龄均值\n",
    "\n"
   ]
  },
  {
   "cell_type": "markdown",
   "metadata": {},
   "source": [
    "* 原假设H_0: 样本均值与总体均值近似相同（或者说，样本取样自 与总体相同的分布） μ=μ0\n",
    "* 备择假设H_a：样本均值与总体均值显著不同  μ≠μ0\n",
    "* 给定置信水平 1-α=0.95，显著性水平α=0.05"
   ]
  },
  {
   "cell_type": "code",
   "execution_count": 3,
   "metadata": {
    "collapsed": false
   },
   "outputs": [
    {
     "data": {
      "text/plain": [
       "Ttest_1sampResult(statistic=-2.5742714883655027, pvalue=0.013118685425061678)"
      ]
     },
     "execution_count": 3,
     "metadata": {},
     "output_type": "execute_result"
    }
   ],
   "source": [
    "stats.ttest_1samp(a=minnesota_ages,  #sample data\n",
    "                  popmean = population_ages.mean())  # pop mean"
   ]
  },
  {
   "cell_type": "markdown",
   "metadata": {},
   "source": [
    "检验统计量t=-2.57，它表示 样本均值 偏离原假设 的程度，以判断是否拒绝原假设。如果偏离程度超出 置信水平和自由度限定的临界值，拒绝H0。\n",
    "\n",
    "通过stats.t.ppf() 确定临界值："
   ]
  },
  {
   "cell_type": "code",
   "execution_count": 4,
   "metadata": {
    "collapsed": false
   },
   "outputs": [
    {
     "name": "stdout",
     "output_type": "stream",
     "text": [
      "-2.00957523449\n",
      "2.00957523449\n"
     ]
    }
   ],
   "source": [
    "print(stats.t.ppf(q=0.025,\n",
    "                  df=49))\n",
    "print(stats.t.ppf(q=0.975,\n",
    "                  df=49))"
   ]
  },
  {
   "cell_type": "code",
   "execution_count": 5,
   "metadata": {
    "collapsed": false
   },
   "outputs": [
    {
     "data": {
      "text/plain": [
       "0.013121066545690117"
      ]
     },
     "execution_count": 5,
     "metadata": {},
     "output_type": "execute_result"
    }
   ],
   "source": [
    "# 检验统计量t所在的分位点 对应的累积分布曲线下的面积即为p-value\n",
    "stats.t.cdf(x= -2.5742,      # T-test statistic\n",
    "               df= 49) * 2   # Mupltiply by two for two tailed test 检验统计量的值可能在抽样分布两侧的任一侧，均拒绝"
   ]
  },
  {
   "cell_type": "code",
   "execution_count": 6,
   "metadata": {
    "collapsed": false,
    "scrolled": true
   },
   "outputs": [
    {
     "name": "stdout",
     "output_type": "stream",
     "text": [
      "(36.369669080722176, 42.15033091927782)\n",
      "(35.405479940921069, 43.114520059078927)\n"
     ]
    }
   ],
   "source": [
    "# p=0.013,对应“不显著”（不同）的置信水平该是99%，若我们构造95%的置信区间，区间将不囊括总体均值43：\n",
    "sigma = minnesota_ages.std()/math.sqrt(50)   # sample stdv/sample size\n",
    "\n",
    "confidence_interval_95 = stats.t.interval(0.95,\n",
    "                                        df=49,\n",
    "                                        loc=minnesota_ages.mean(),  # sample mean\n",
    "                                         scale = sigma)              # standard dev estimate\n",
    "\n",
    "# 构造0.99的置信区间：\n",
    "\n",
    "confidence_interval_99 = stats.t.interval(0.99,\n",
    "                                          df=49,\n",
    "                                          loc=minnesota_ages.mean(),\n",
    "                                          scale = sigma)\n",
    "\n",
    "print(confidence_interval_95)\n",
    "print(confidence_interval_99)\n"
   ]
  },
  {
   "cell_type": "markdown",
   "metadata": {},
   "source": [
    "* 当犯错成本很大时，选高置信水平如0.99，高容错，即低显著性水平α（低犯错的概率）为0.01。此时置信区间很宽，高容错"
   ]
  },
  {
   "cell_type": "markdown",
   "metadata": {},
   "source": [
    "## Two-Sample T-Test\n",
    "\n",
    "用于检测两个独立（independent）样本（取自两个分布）的【均值】是否不同（或比较均值大小），进而判断两个总体均值是否不同\n",
    "\n",
    "stats.ttest_ind() :\n",
    "![tt](tt.png)"
   ]
  },
  {
   "cell_type": "markdown",
   "metadata": {},
   "source": [
    "原假设：两个独立样本的均值不显著，μ1=μ2或μ1-μ2=0\n",
    "\n",
    "备择假设：两个独立样本的均值显著不同，μ1≠μ2"
   ]
  },
  {
   "cell_type": "code",
   "execution_count": 7,
   "metadata": {
    "collapsed": false
   },
   "outputs": [
    {
     "name": "stdout",
     "output_type": "stream",
     "text": [
      "42.8\n"
     ]
    }
   ],
   "source": [
    "# 构造wisocnsin 的样本数据集，与Minnesota对比\n",
    "np.random.seed(12)\n",
    "wisconsin_ages1 = stats.poisson.rvs(loc=18,mu=33,size=30)\n",
    "wisconsin_ages2 = stats.poisson.rvs(loc=18,mu=13,size=20)\n",
    "wisconsin_ages = np.concatenate((wisconsin_ages1,wisconsin_ages2))\n",
    "\n",
    "print(wisconsin_ages.mean())"
   ]
  },
  {
   "cell_type": "code",
   "execution_count": 8,
   "metadata": {
    "collapsed": false
   },
   "outputs": [
    {
     "data": {
      "text/plain": [
       "Ttest_indResult(statistic=-1.7083870793286842, pvalue=0.090731043439577483)"
      ]
     },
     "execution_count": 8,
     "metadata": {},
     "output_type": "execute_result"
    }
   ],
   "source": [
    "stats.ttest_ind(a=minnesota_ages,\n",
    "                b=wisconsin_ages,\n",
    "                equal_var = False)  # assumn samples have equal variance?"
   ]
  },
  {
   "cell_type": "markdown",
   "metadata": {},
   "source": [
    "若给定置信水平95%，α=0.05 < 0.09,不能拒绝原假设；\n",
    "\n",
    "这是双侧检验，即检测=是否成立；若是单侧检验，检验大小，如H0:μ1< μ2,则P-value要除了2"
   ]
  },
  {
   "cell_type": "markdown",
   "metadata": {},
   "source": [
    "## Paired T-Test\n",
    "\n",
    "匹配样本\n",
    "\n",
    "取自同一分布的两个样本间的相关性比较（不涉及均值）。两个样本具有相关性，related，非独立。比如对同一组病人，观察用药前和用药后的情况。\n",
    "\n",
    "2-sample test 是两个样本，取自两个不同的总体。\n",
    "\n",
    "用stats.ttest_rel():![pair_t_test](pair.png)"
   ]
  },
  {
   "cell_type": "code",
   "execution_count": 9,
   "metadata": {
    "collapsed": false
   },
   "outputs": [
    {
     "data": {
      "text/html": [
       "<div>\n",
       "<table border=\"1\" class=\"dataframe\">\n",
       "  <thead>\n",
       "    <tr style=\"text-align: right;\">\n",
       "      <th></th>\n",
       "      <th>weight-change</th>\n",
       "      <th>weight_after</th>\n",
       "      <th>weight_before</th>\n",
       "    </tr>\n",
       "  </thead>\n",
       "  <tbody>\n",
       "    <tr>\n",
       "      <th>count</th>\n",
       "      <td>100.000000</td>\n",
       "      <td>100.000000</td>\n",
       "      <td>100.000000</td>\n",
       "    </tr>\n",
       "    <tr>\n",
       "      <th>mean</th>\n",
       "      <td>-1.230375</td>\n",
       "      <td>249.115171</td>\n",
       "      <td>250.345546</td>\n",
       "    </tr>\n",
       "    <tr>\n",
       "      <th>std</th>\n",
       "      <td>4.783696</td>\n",
       "      <td>28.422183</td>\n",
       "      <td>28.132539</td>\n",
       "    </tr>\n",
       "    <tr>\n",
       "      <th>min</th>\n",
       "      <td>-11.495286</td>\n",
       "      <td>165.913930</td>\n",
       "      <td>170.400443</td>\n",
       "    </tr>\n",
       "    <tr>\n",
       "      <th>25%</th>\n",
       "      <td>-4.046211</td>\n",
       "      <td>229.148236</td>\n",
       "      <td>230.421042</td>\n",
       "    </tr>\n",
       "    <tr>\n",
       "      <th>50%</th>\n",
       "      <td>-1.413463</td>\n",
       "      <td>251.134089</td>\n",
       "      <td>250.830805</td>\n",
       "    </tr>\n",
       "    <tr>\n",
       "      <th>75%</th>\n",
       "      <td>1.738673</td>\n",
       "      <td>268.927258</td>\n",
       "      <td>270.637145</td>\n",
       "    </tr>\n",
       "    <tr>\n",
       "      <th>max</th>\n",
       "      <td>9.759282</td>\n",
       "      <td>316.720357</td>\n",
       "      <td>314.700233</td>\n",
       "    </tr>\n",
       "  </tbody>\n",
       "</table>\n",
       "</div>"
      ],
      "text/plain": [
       "       weight-change  weight_after  weight_before\n",
       "count     100.000000    100.000000     100.000000\n",
       "mean       -1.230375    249.115171     250.345546\n",
       "std         4.783696     28.422183      28.132539\n",
       "min       -11.495286    165.913930     170.400443\n",
       "25%        -4.046211    229.148236     230.421042\n",
       "50%        -1.413463    251.134089     250.830805\n",
       "75%         1.738673    268.927258     270.637145\n",
       "max         9.759282    316.720357     314.700233"
      ]
     },
     "execution_count": 9,
     "metadata": {},
     "output_type": "execute_result"
    }
   ],
   "source": [
    "# 例：一组肥胖者，减肥药效果。构造体重数据集：\n",
    "\n",
    "np.random.seed(11)\n",
    "before = stats.norm.rvs(loc=250,   # specifies the mean\n",
    "                        scale=30,  # specifies the std\n",
    "                        size=100)\n",
    "after =  before + stats.norm.rvs(scale=5,loc=-1.25,size=100)\n",
    "\n",
    "weight_df = pd.DataFrame({'weight_before':before,\n",
    "                          'weight_after':after,\n",
    "                          'weight-change':after-before})\n",
    "weight_df.describe()"
   ]
  },
  {
   "cell_type": "markdown",
   "metadata": {},
   "source": [
    "上面的统计汇总显示，用药后平均减重1.23磅。下面进行paired t-test ，在95%置信水平下，看是否显著不同："
   ]
  },
  {
   "cell_type": "code",
   "execution_count": 10,
   "metadata": {
    "collapsed": false
   },
   "outputs": [
    {
     "data": {
      "text/plain": [
       "Ttest_relResult(statistic=2.5720175998568284, pvalue=0.011596444318439857)"
      ]
     },
     "execution_count": 10,
     "metadata": {},
     "output_type": "execute_result"
    }
   ],
   "source": [
    "stats.ttest_rel(a=before,b=after)"
   ]
  },
  {
   "cell_type": "markdown",
   "metadata": {},
   "source": [
    "p-val=0.01 < 0.05,拒绝原假设“=”，所以显著不同。\n",
    "\n",
    "p-val=0.01 意味着：（因为）偶然（误差）看见两个样本存在很大不同的概率仅仅比1%多些。也就是说99%的可能性，显著不同是非偶然的，即99%显著不同。"
   ]
  },
  {
   "cell_type": "markdown",
   "metadata": {},
   "source": [
    "## Type I and Type II Error"
   ]
  },
  {
   "cell_type": "markdown",
   "metadata": {},
   "source": [
    "Type I: 拒真H0。aka 假阳。犯错率等于显著性水平α，规避方法：提高置信水平。\n",
    "\n",
    "Type II: 受假H0。aka 假阴。 置信水平越高，越可能犯。\n",
    "\n",
    "Let's investigate these errors with a plot:"
   ]
  },
  {
   "cell_type": "code",
   "execution_count": 11,
   "metadata": {
    "collapsed": false
   },
   "outputs": [
    {
     "data": {
      "text/plain": [
       "<matplotlib.text.Text at 0x118ed5e10>"
      ]
     },
     "execution_count": 11,
     "metadata": {},
     "output_type": "execute_result"
    },
    {
     "data": {
      "image/png": "[encoded data removed]",
      "text/plain": [
       "<matplotlib.figure.Figure at 0x116c01400>"
      ]
     },
     "metadata": {},
     "output_type": "display_data"
    }
   ],
   "source": [
    "# Type I error\n",
    "plt.figure(figsize=(7,7))\n",
    "\n",
    "plt.fill_between(x=np.arange(-4,-2,0.01),\n",
    "                 y1 = stats.norm.pdf(np.arange(-4,-2,0.01)),\n",
    "                 facecolor='red',\n",
    "                 alpha=0.35)  # 颜色浓度，0.1是粉红色，0.9是大红色\n",
    "\n",
    "plt.fill_between(x=np.arange(-2,2,0.01),\n",
    "                 y1=stats.norm.pdf(np.arange(-2,2,0.01)),\n",
    "                 facecolor='white',\n",
    "                 alpha=0.35)\n",
    "                 \n",
    "plt.fill_between(x=np.arange(2,4,0.01),\n",
    "                 y1=stats.norm.pdf(np.arange(2,4,0.01)),\n",
    "                 facecolor='red',\n",
    "                 alpha=0.5)\n",
    "plt.text(x=-0.8,y=0.2,s='Null hypothesis')\n",
    "plt.text(x=-3.1,y=0.02,s='Type I error')\n",
    "plt.text(x=2.1,y=0.02,s='Type I error')"
   ]
  },
  {
   "cell_type": "code",
   "execution_count": 12,
   "metadata": {
    "collapsed": false
   },
   "outputs": [
    {
     "data": {
      "text/plain": [
       "<matplotlib.text.Text at 0x1193af710>"
      ]
     },
     "execution_count": 12,
     "metadata": {},
     "output_type": "execute_result"
    },
    {
     "data": {
      "image/png": "[encoded data removed]",
      "text/plain": [
       "<matplotlib.figure.Figure at 0x116c01048>"
      ]
     },
     "metadata": {},
     "output_type": "display_data"
    }
   ],
   "source": [
    "# Type II error:\n",
    "plt.figure(figsize=(7,7))\n",
    "\n",
    "plt.fill_between(x=np.arange(-4,-2,0.01),\n",
    "                 y1=stats.norm.pdf(np.arange(-4,-2,0.01),loc=3,scale=2),\n",
    "                 facecolor='white',\n",
    "                 alpha=0.35)\n",
    "                 \n",
    "plt.fill_between(x=np.arange(-2,2,0.01),\n",
    "                 y1 = stats.norm.pdf(np.arange(-2,2,0.01),loc=3,scale=2),\n",
    "                 facecolor='blue',\n",
    "                 alpha=0.35)\n",
    "plt.fill_between(x=np.arange(2,10,0.01),\n",
    "                 y1=stats.norm.pdf(np.arange(2,10,0.01),loc=3,scale=2),\n",
    "                  facecolor='white',\n",
    "                 alpha=0.35)\n",
    "\n",
    "plt.text(x=2.5, y=0.13, s= \"Alternative\")\n",
    "plt.text(x=0, y=0.02, s= \"Type 2 Error\")"
   ]
  },
  {
   "cell_type": "code",
   "execution_count": 13,
   "metadata": {
    "collapsed": false,
    "scrolled": true
   },
   "outputs": [
    {
     "data": {
      "text/plain": [
       "<matplotlib.text.Text at 0x1194da5f8>"
      ]
     },
     "execution_count": 13,
     "metadata": {},
     "output_type": "execute_result"
    },
    {
     "data": {
      "image/png": "[encoded data removed]",
      "text/plain": [
       "<matplotlib.figure.Figure at 0x1193c1128>"
      ]
     },
     "metadata": {},
     "output_type": "display_data"
    }
   ],
   "source": [
    "# 合起来：\n",
    "\n",
    "plt.figure(figsize=(12,10))\n",
    "\n",
    "plt.fill_between(x=np.arange(-4,-2,0.01), \n",
    "                 y1= stats.norm.pdf(np.arange(-4,-2,0.01)) ,\n",
    "                 facecolor='red',\n",
    "                 alpha=0.35)\n",
    "\n",
    "plt.fill_between(x=np.arange(-2,2,0.01), \n",
    "                 y1= stats.norm.pdf(np.arange(-2,2,0.01)) ,\n",
    "                 facecolor='white',\n",
    "                 alpha=0.35)\n",
    "\n",
    "plt.fill_between(x=np.arange(2,4,0.01), \n",
    "                 y1= stats.norm.pdf(np.arange(2,4,0.01)) ,\n",
    "                 facecolor='red',\n",
    "                 alpha=0.5)\n",
    "\n",
    "plt.fill_between(x=np.arange(-4,-2,0.01), \n",
    "                 y1= stats.norm.pdf(np.arange(-4,-2,0.01),loc=3, scale=2) ,\n",
    "                 facecolor='white',\n",
    "                 alpha=0.35)\n",
    "\n",
    "plt.fill_between(x=np.arange(-2,2,0.01), \n",
    "                 y1= stats.norm.pdf(np.arange(-2,2,0.01),loc=3, scale=2) ,\n",
    "                 facecolor='blue',\n",
    "                 alpha=0.35)\n",
    "\n",
    "plt.fill_between(x=np.arange(2,10,0.01), \n",
    "                 y1= stats.norm.pdf(np.arange(2,10,0.01),loc=3, scale=2),\n",
    "                 facecolor='white',\n",
    "                 alpha=0.35)\n",
    "\n",
    "plt.text(x=-0.8, y=0.15, s= \"Null Hypothesis\")\n",
    "plt.text(x=2.5, y=0.13, s= \"Alternative\")\n",
    "plt.text(x=2.1, y=0.01, s= \"Type 1 Error\")\n",
    "plt.text(x=-3.2, y=0.01, s= \"Type 1 Error\")\n",
    "plt.text(x=0, y=0.02, s= \"Type 2 Error\")"
   ]
  },
  {
   "cell_type": "markdown",
   "metadata": {},
   "source": [
    "## wrap up"
   ]
  },
  {
   "cell_type": "markdown",
   "metadata": {},
   "source": [
    "T-test 研究样本和总体均值的差异。T-test对数值变量起作用，下一章讨论对分类变量的统计检验。"
   ]
  }
 ],
 "metadata": {
  "kernelspec": {
   "display_name": "Python 3",
   "language": "python",
   "name": "python3"
  },
  "language_info": {
   "codemirror_mode": {
    "name": "ipython",
    "version": 3
   },
   "file_extension": ".py",
   "mimetype": "text/x-python",
   "name": "python",
   "nbconvert_exporter": "python",
   "pygments_lexer": "ipython3",
   "version": "3.5.2"
  }
 },
 "nbformat": 4,
 "nbformat_minor": 0
}

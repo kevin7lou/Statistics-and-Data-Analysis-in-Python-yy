{
 "cells": [
  {
   "cell_type": "markdown",
   "metadata": {
    "collapsed": true
   },
   "source": [
    "“线性”的意思是 模型的函数表达式为 数据与自变量的【线性组合】（定义上讲，并不是几何上像拟合一条线，所以叫“线性”）。\n",
    "\n",
    "“线性组合”的表达式是 一个或多个变量经过常数缩放，再加和。\n",
    "\n",
    "本例讲单变量的一元线性回归。最基本的形式是用一条直线拟合。\n",
    "\n",
    "模型设计的目标是平方误差要最小。在此，我们不讨论数学上如何最小化这个平方误差，只不过我们想要用直线的形式来做出最好的拟合（当然也可以用其他线、面来拟合），或者说求一个平方误差最小的直线。"
   ]
  },
  {
   "cell_type": "code",
   "execution_count": 1,
   "metadata": {
    "collapsed": false
   },
   "outputs": [],
   "source": [
    "import pandas as pd\n",
    "import numpy as np\n",
    "import scipy.stats as stats\n",
    "import matplotlib.pyplot as plt\n",
    "from ggplot import mtcars\n",
    "\n",
    "%matplotlib inline"
   ]
  },
  {
   "cell_type": "markdown",
   "metadata": {},
   "source": [
    "例：根据车重，用线性回归预测车辆油耗："
   ]
  },
  {
   "cell_type": "code",
   "execution_count": 2,
   "metadata": {
    "collapsed": false
   },
   "outputs": [
    {
     "data": {
      "text/plain": [
       "<matplotlib.axes._subplots.AxesSubplot at 0x11810c438>"
      ]
     },
     "execution_count": 2,
     "metadata": {},
     "output_type": "execute_result"
    },
    {
     "data": {
      "image/png": "[encoded data removed]",
      "text/plain": [
       "<matplotlib.figure.Figure at 0x1179eba20>"
      ]
     },
     "metadata": {},
     "output_type": "display_data"
    }
   ],
   "source": [
    "mtcars.plot(kind='scatter',\n",
    "            x='wt',\n",
    "            y='mpg',\n",
    "            figsize=(9,9),\n",
    "            color='black')"
   ]
  },
  {
   "cell_type": "markdown",
   "metadata": {},
   "source": [
    "散点图显示，车重和油耗之间，大致存在线性关系，表明线性回归模型也许是行之有效的。"
   ]
  },
  {
   "cell_type": "markdown",
   "metadata": {},
   "source": [
    "## Python's scikit-learn library contains a wide range of functions for predictive modeling."
   ]
  },
  {
   "cell_type": "code",
   "execution_count": 3,
   "metadata": {
    "collapsed": true
   },
   "outputs": [],
   "source": [
    "from sklearn import linear_model"
   ]
  },
  {
   "cell_type": "code",
   "execution_count": 4,
   "metadata": {
    "collapsed": false
   },
   "outputs": [
    {
     "name": "stdout",
     "output_type": "stream",
     "text": [
      "37.2851261673\n",
      "[-5.34447157]\n"
     ]
    }
   ],
   "source": [
    "# Initialize model\n",
    "regression_model = linear_model.LinearRegression()\n",
    "\n",
    "# Train the model using the mtcars data\n",
    "regression_model.fit(X=pd.DataFrame(mtcars['wt']),\n",
    "                     y=mtcars['mpg'])\n",
    "\n",
    "# Check trained model y-intercept\n",
    "print(regression_model.intercept_)\n",
    "\n",
    "# Check trained model coefficients\n",
    "\n",
    "print(regression_model.coef_)"
   ]
  },
  {
   "cell_type": "markdown",
   "metadata": {},
   "source": [
    "输出的是：最优拟合的y截距和权值系数"
   ]
  },
  {
   "cell_type": "markdown",
   "metadata": {},
   "source": [
    "### .score() 对模型好坏(拟合优度)做出评估：做出来的模型可以explain多少 \"真实因变量的离散程度variance\"，即 预测结果/真实结果"
   ]
  },
  {
   "cell_type": "code",
   "execution_count": 5,
   "metadata": {
    "collapsed": false
   },
   "outputs": [
    {
     "data": {
      "text/plain": [
       "0.75283279365826461"
      ]
     },
     "execution_count": 5,
     "metadata": {},
     "output_type": "execute_result"
    }
   ],
   "source": [
    "regression_model.score(pd.DataFrame(mtcars['wt']),mtcars['mpg'])"
   ]
  },
  {
   "cell_type": "markdown",
   "metadata": {},
   "source": [
    "**car weight explains roughly 75% of the variance in mpg.**"
   ]
  },
  {
   "cell_type": "markdown",
   "metadata": {},
   "source": [
    "线性回归采用的评估函数score function 是 R-squared\n",
    "\n",
    "![rfomula](rfomula.png)![r2](r2.png)"
   ]
  },
  {
   "cell_type": "markdown",
   "metadata": {},
   "source": [
    "上述的SSR是SS Regression 回归平方和。不是 SS Residual 残差平方和，SSE才是。"
   ]
  },
  {
   "cell_type": "code",
   "execution_count": 6,
   "metadata": {
    "collapsed": false,
    "scrolled": true
   },
   "outputs": [
    {
     "data": {
      "text/plain": [
       "0.75283279365826505"
      ]
     },
     "execution_count": 6,
     "metadata": {},
     "output_type": "execute_result"
    }
   ],
   "source": [
    "# 用回归平方和 求R²：\n",
    "\n",
    "train_prediction = regression_model.predict(X = pd.DataFrame(mtcars[\"wt\"]))\n",
    "SSR = (( train_prediction-mtcars[\"mpg\"].mean())**2).sum()  \n",
    "SST = ((mtcars['mpg']-mtcars['mpg'].mean())**2).sum()\n",
    "\n",
    "SSR/SST\n",
    "#与上面基本一致"
   ]
  },
  {
   "cell_type": "markdown",
   "metadata": {},
   "source": [
    "误差（残差）平方和求R²： ![SSE](SSE.png)"
   ]
  },
  {
   "cell_type": "code",
   "execution_count": 7,
   "metadata": {
    "collapsed": false
   },
   "outputs": [
    {
     "data": {
      "text/plain": [
       "0.7528327936582646"
      ]
     },
     "execution_count": 7,
     "metadata": {},
     "output_type": "execute_result"
    }
   ],
   "source": [
    "\n",
    "residuals = mtcars[\"mpg\"] - train_prediction \n",
    "\n",
    "SSResiduals = (residuals**2).sum()\n",
    "\n",
    "SSTotal = ((mtcars[\"mpg\"] - mtcars[\"mpg\"].mean())**2).sum()\n",
    "\n",
    "1 - (SSResiduals/SSTotal)  "
   ]
  },
  {
   "cell_type": "code",
   "execution_count": 8,
   "metadata": {
    "collapsed": false
   },
   "outputs": [
    {
     "data": {
      "text/plain": [
       "[<matplotlib.lines.Line2D at 0x118d27080>]"
      ]
     },
     "execution_count": 8,
     "metadata": {},
     "output_type": "execute_result"
    },
    {
     "data": {
      "image/png": "[encoded data removed]",
      "text/plain": [
       "<matplotlib.figure.Figure at 0x11844b9b0>"
      ]
     },
     "metadata": {},
     "output_type": "display_data"
    }
   ],
   "source": [
    "# 画出拟合效果\n",
    "mtcars.plot(kind='scatter',\n",
    "            x='wt',\n",
    "            y='mpg',\n",
    "            figsize=(8,8),\n",
    "            color='black',\n",
    "            xlim=(0,7))\n",
    "\n",
    "plt.plot(mtcars['wt'],\n",
    "         train_prediction,\n",
    "         color='blue')"
   ]
  },
  {
   "cell_type": "markdown",
   "metadata": {},
   "source": [
    "### 异常值的影响\n",
    "\n",
    "Since regression deals with minimizing squared residuals, large residuals have a disproportionately large influence on the model."
   ]
  },
  {
   "cell_type": "code",
   "execution_count": 13,
   "metadata": {
    "collapsed": false
   },
   "outputs": [
    {
     "data": {
      "text/plain": [
       "[<matplotlib.lines.Line2D at 0x118649d68>]"
      ]
     },
     "execution_count": 13,
     "metadata": {},
     "output_type": "execute_result"
    },
    {
     "data": {
      "image/png": "[encoded data removed]",
      "text/plain": [
       "<matplotlib.figure.Figure at 0x118e58048>"
      ]
     },
     "metadata": {},
     "output_type": "display_data"
    }
   ],
   "source": [
    "# 人为加入一些异常值来观察下：\n",
    "\n",
    "mtcars_subset = mtcars[['mpg','wt']]\n",
    "\n",
    "super_car = pd.DataFrame({\"mpg\":50,\"wt\":10}, index=[\"super\"])\n",
    "\n",
    "new_cars = mtcars_subset.append(super_car)   # 可以像list里一样，用append添加行\n",
    "\n",
    "# Initialize model\n",
    "regression_model = linear_model.LinearRegression()\n",
    "\n",
    "# Train the model using the new_cars data\n",
    "regression_model.fit(X = pd.DataFrame(new_cars[\"wt\"]), \n",
    "                     y = new_cars[\"mpg\"])\n",
    "\n",
    "train_prediction2 = regression_model.predict(X = pd.DataFrame(new_cars[\"wt\"]))\n",
    "                                       #这里要用pd.DataFrame变成2维(33,1),否则是1维的Series(33,)\n",
    "\n",
    "# Plot the new model\n",
    "new_cars.plot(kind=\"scatter\",\n",
    "           x=\"wt\",\n",
    "           y=\"mpg\",\n",
    "           figsize=(9,9),\n",
    "           color=\"black\", xlim=(1,11), ylim=(10,52))\n",
    "                                             \n",
    "# Plot regression line\n",
    "plt.plot(new_cars[\"wt\"],     # Explanatory variable\n",
    "         train_prediction2,  # Predicted values\n",
    "         color=\"blue\")"
   ]
  },
  {
   "cell_type": "markdown",
   "metadata": {
    "collapsed": true
   },
   "source": [
    "### 如何证实一个模型行之有效，即我们可以选用该线性回归模型（而不是其他模型）？\n",
    " \n",
    "好的模型，残差 要大致服从 正态分布。意味着误差 较均匀的分布在回归线上下。对此，我们可以画（残差的）正态概率图 来查看：\n",
    "\n",
    "scipy.stats.probplot() "
   ]
  },
  {
   "cell_type": "code",
   "execution_count": 14,
   "metadata": {
    "collapsed": false
   },
   "outputs": [
    {
     "data": {
      "text/plain": [
       "((array([-2.02511189, -1.62590278, -1.38593914, -1.20666642, -1.05953591,\n",
       "         -0.93235918, -0.81872017, -0.71478609, -0.6180591 , -0.52680137,\n",
       "         -0.43973827, -0.35589149, -0.27447843, -0.19484777, -0.11643566,\n",
       "         -0.03873405,  0.03873405,  0.11643566,  0.19484777,  0.27447843,\n",
       "          0.35589149,  0.43973827,  0.52680137,  0.6180591 ,  0.71478609,\n",
       "          0.81872017,  0.93235918,  1.05953591,  1.20666642,  1.38593914,\n",
       "          1.62590278,  2.02511189]),\n",
       "  array([-4.54315128, -3.90536265, -3.72686632, -3.46235533, -3.20536265,\n",
       "         -2.97258623, -2.78093991, -2.61100374, -2.28261065, -2.08595212,\n",
       "         -1.88302362, -1.10014396, -1.0274952 , -0.9197704 , -0.69325453,\n",
       "         -0.20014396, -0.0502472 ,  0.152043  ,  0.29985604,  0.35642633,\n",
       "          0.86687313,  1.17334959,  1.20105932,  1.29734994,  1.74619542,\n",
       "          2.10328764,  2.34995929,  2.46436703,  4.16373815,  5.98107439,\n",
       "          6.42197917,  6.87271129])),\n",
       " (3.032779748945897, -4.8544962703334722e-15, 0.97566744517913173))"
      ]
     },
     "execution_count": 14,
     "metadata": {},
     "output_type": "execute_result"
    },
    {
     "data": {
      "image/png": "[encoded data removed]",
      "text/plain": [
       "<matplotlib.figure.Figure at 0x118e14390>"
      ]
     },
     "metadata": {},
     "output_type": "display_data"
    }
   ],
   "source": [
    "plt.figure(figsize=(9,9))\n",
    "\n",
    "stats.probplot(residuals, dist=\"norm\", plot=plt)"
   ]
  },
  {
   "cell_type": "markdown",
   "metadata": {},
   "source": [
    "当 残差 服从正态分布，散点将紧密聚集在直线附近。\n",
    "\n",
    "此例中，残差 在尾端相对直线有较大弯曲， 倾向非线性模型。这说明 简单的直线不足以描述'wt'和'mpg'之间的关系，可能需要用更复杂点的曲线模型。"
   ]
  },
  {
   "cell_type": "markdown",
   "metadata": {},
   "source": [
    "### 做完模型预测后，评估模型表现的度量方法：**mean_squared_error()**\n",
    "\n",
    "之前讲过R²，但它仅适用于回归模型。我们想要更通用的评估方法，以比较不同类型的模型的表现，比如采用 Root mean squared error(RMSE) \n",
    " ’根 均方误差‘：\n",
    " \n",
    "\n",
    "\n",
    " ![MSE](MSE.png)"
   ]
  },
  {
   "cell_type": "code",
   "execution_count": 76,
   "metadata": {
    "collapsed": false
   },
   "outputs": [
    {
     "name": "stdout",
     "output_type": "stream",
     "text": [
      "2.94916268596\n"
     ]
    }
   ],
   "source": [
    "from sklearn.metrics import mean_squared_error\n",
    "\n",
    "RMSE = mean_squared_error(train_prediction,mtcars['mpg'])**0.5\n",
    "\n",
    "print(RMSE)"
   ]
  },
  {
   "cell_type": "markdown",
   "metadata": {},
   "source": [
    "## Polynomial Regression"
   ]
  },
  {
   "cell_type": "markdown",
   "metadata": {},
   "source": [
    "变量之间并非线性关系，无法用直线拟合。因此，模型中加入更高次项，用多项式（线性）回归来拟合一条曲线。"
   ]
  },
  {
   "cell_type": "code",
   "execution_count": 45,
   "metadata": {
    "collapsed": false
   },
   "outputs": [
    {
     "name": "stdout",
     "output_type": "stream",
     "text": [
      "Model intercept:  49.9308109495\n",
      "Model Coefficients:  [-13.38033708   1.17108689]\n"
     ]
    },
    {
     "data": {
      "text/plain": [
       "0.81906135813840941"
      ]
     },
     "execution_count": 45,
     "metadata": {},
     "output_type": "execute_result"
    }
   ],
   "source": [
    "# Initialize model\n",
    "poly_model = linear_model.LinearRegression()\n",
    "\n",
    "# Make a DataFrame of predictor variables\n",
    "predictors = pd.DataFrame([mtcars[\"wt\"],           # Include weight\n",
    "                           mtcars[\"wt\"]**2]).T     # Include weight squared 原一次模型中加入2次项；注意此处的转置\n",
    "\n",
    "# Train the model using the new_cars data\n",
    "poly_model.fit(X = predictors, \n",
    "               y = mtcars[\"mpg\"])\n",
    "\n",
    "\n",
    "print(\"Model intercept: \", poly_model.intercept_)  # Check trained model y-intercept\n",
    "\n",
    "\n",
    "print(\"Model Coefficients: \",poly_model.coef_) # Check trained model coefficients (scaling factor given to \"wt\")\n",
    "\n",
    "# Check R-squared\n",
    "poly_model.score(X = predictors, \n",
    "                 y = mtcars[\"mpg\"])"
   ]
  },
  {
   "cell_type": "markdown",
   "metadata": {},
   "source": [
    "结果显示R²提升，二次模型表现比一次更好。但需要注意的是，在线性模型中加入更多变量绝不会使R²减小（只会使模型更复杂），因此，务必谨慎添加变量。"
   ]
  },
  {
   "cell_type": "code",
   "execution_count": 68,
   "metadata": {
    "collapsed": false
   },
   "outputs": [
    {
     "data": {
      "text/plain": [
       "[<matplotlib.lines.Line2D at 0x11cb9aac8>]"
      ]
     },
     "execution_count": 68,
     "metadata": {},
     "output_type": "execute_result"
    },
    {
     "data": {
      "image/png": "[encoded data removed]",
      "text/plain": [
       "<matplotlib.figure.Figure at 0x11dc619b0>"
      ]
     },
     "metadata": {},
     "output_type": "display_data"
    }
   ],
   "source": [
    "#画图\n",
    "# Plot the curve from 1.5 to 5.5\n",
    "poly_line_range = np.arange(1.5, 5.5, 0.1)     # 因为是曲线是连续型的，所以需要指定范围，然后连成平滑的线\n",
    "                                                \n",
    "\n",
    "# Get first and second order predictors from range\n",
    "poly_predictors = pd.DataFrame([poly_line_range,         #预测该区间内的连续的40个点，然后连成平滑的线，而不是原数据中孤立的32个点\n",
    "                               poly_line_range**2]).T     # 现X 含一次和二次 两项自变量，因此传入的不再是mtcars['wt'] 一项\n",
    "\n",
    "# Get corresponding y values from the model\n",
    "y_values = poly_model.predict(X = poly_predictors)   # x 轴为区间（1.5，5.5），预测40个点的y值\n",
    "\n",
    "mtcars.plot(kind=\"scatter\",\n",
    "           x=\"wt\",\n",
    "           y=\"mpg\",\n",
    "           figsize=(9,9),\n",
    "           color=\"black\",\n",
    "           xlim = (0,7))\n",
    "\n",
    "# Plot curve line\n",
    "plt.plot(poly_line_range,   # X-axis range\n",
    "         y_values,          # Predicted values\n",
    "         color=\"blue\")"
   ]
  },
  {
   "cell_type": "markdown",
   "metadata": {},
   "source": [
    "使用这个新模型对原数据做预测，并检查RMSE："
   ]
  },
  {
   "cell_type": "code",
   "execution_count": 79,
   "metadata": {
    "collapsed": false
   },
   "outputs": [
    {
     "name": "stdout",
     "output_type": "stream",
     "text": [
      "2.52330047246\n",
      "2.94916268596\n"
     ]
    },
    {
     "data": {
      "text/plain": [
       "0.81906135813840941"
      ]
     },
     "execution_count": 79,
     "metadata": {},
     "output_type": "execute_result"
    }
   ],
   "source": [
    "preds=poly_model.predict(X=predictors)\n",
    "\n",
    "rmse = mean_squared_error(preds,mtcars['mpg'])**0.5\n",
    "\n",
    "print(rmse)\n",
    "print(RMSE)  # 一次模型的RMSE\n",
    "\n",
    "\n",
    "poly_model.score(predictors,mtcars['mpg'])\n",
    "\n"
   ]
  },
  {
   "cell_type": "markdown",
   "metadata": {},
   "source": [
    "RMSE 更小，R²更大，所以二次模型表现更好。但要留心过拟合。"
   ]
  },
  {
   "cell_type": "markdown",
   "metadata": {},
   "source": [
    "### 过拟合"
   ]
  },
  {
   "cell_type": "code",
   "execution_count": 83,
   "metadata": {
    "collapsed": false
   },
   "outputs": [],
   "source": [
    "poly_model_15 = linear_model.LinearRegression()\n",
    "predictors_15 = pd.DataFrame([mtcars['wt'],\n",
    "                              mtcars['wt']**2,\n",
    "                              mtcars['wt']**3,\n",
    "                              mtcars['wt']**4,\n",
    "                              mtcars['wt']**5,\n",
    "                              mtcars['wt']**6,\n",
    "                              mtcars['wt']**7,\n",
    "                              mtcars['wt']**8,\n",
    "                              mtcars['wt']**9,\n",
    "                              mtcars['wt']**10,\n",
    "                              mtcars['wt']**11,\n",
    "                              mtcars['wt']**12,\n",
    "                              mtcars['wt']**13,\n",
    "                              mtcars['wt']**14,\n",
    "                              mtcars['wt']**15]).T\n",
    "                        \n",
    "                            \n",
    "                              "
   ]
  },
  {
   "cell_type": "code",
   "execution_count": 85,
   "metadata": {
    "collapsed": false
   },
   "outputs": [
    {
     "data": {
      "text/plain": [
       "LinearRegression(copy_X=True, fit_intercept=True, n_jobs=1, normalize=False)"
      ]
     },
     "execution_count": 85,
     "metadata": {},
     "output_type": "execute_result"
    }
   ],
   "source": [
    "poly_model_15.fit(predictors_15,mtcars['mpg'])"
   ]
  },
  {
   "cell_type": "code",
   "execution_count": 86,
   "metadata": {
    "collapsed": false
   },
   "outputs": [
    {
     "data": {
      "text/plain": [
       "-1183.748861926794"
      ]
     },
     "execution_count": 86,
     "metadata": {},
     "output_type": "execute_result"
    }
   ],
   "source": [
    "poly_model_15.intercept_"
   ]
  },
  {
   "cell_type": "code",
   "execution_count": 87,
   "metadata": {
    "collapsed": false
   },
   "outputs": [
    {
     "data": {
      "text/plain": [
       "array([  1.15476943e+03,   8.27020410e+02,  -3.77327253e+02,\n",
       "        -9.90213111e+02,  -8.54583161e+01,   1.01496250e+03,\n",
       "         5.84442749e+01,  -1.14652451e+03,   1.05397525e+03,\n",
       "        -4.97385485e+02,   1.43995449e+02,  -2.66139583e+01,\n",
       "         3.07573419e+00,  -2.03157344e-01,   5.86596963e-03])"
      ]
     },
     "execution_count": 87,
     "metadata": {},
     "output_type": "execute_result"
    }
   ],
   "source": [
    "poly_model_15.coef_"
   ]
  },
  {
   "cell_type": "code",
   "execution_count": 89,
   "metadata": {
    "collapsed": false
   },
   "outputs": [
    {
     "data": {
      "text/plain": [
       "0.87931581879678333"
      ]
     },
     "execution_count": 89,
     "metadata": {},
     "output_type": "execute_result"
    }
   ],
   "source": [
    "poly_model_15.score(predictors_15,mtcars['mpg'])"
   ]
  },
  {
   "cell_type": "code",
   "execution_count": 90,
   "metadata": {
    "collapsed": true
   },
   "outputs": [],
   "source": []
  },
  {
   "cell_type": "code",
   "execution_count": 95,
   "metadata": {
    "collapsed": false
   },
   "outputs": [
    {
     "data": {
      "text/plain": [
       "array([ 20.56080927,  20.8748339 ,  24.84976849,  20.95213474,\n",
       "        17.48053883,  17.13756658,  15.60038839,  21.1805243 ,\n",
       "        21.45277427,  17.48053883,  17.48053883,  16.38111363,\n",
       "        15.3015586 ,  15.73989688,  10.39977394,  10.39767585,\n",
       "        14.69862114,  27.13398207,  31.14543791,  31.05292105,\n",
       "        22.25030251,  16.20409195,  17.5677578 ,  16.47339628,\n",
       "        16.53904758,  30.51771251,  28.15553159,  30.15861009,\n",
       "        21.33110216,  20.38447899,  15.60038839,  20.4162018 ])"
      ]
     },
     "execution_count": 95,
     "metadata": {},
     "output_type": "execute_result"
    }
   ],
   "source": [
    "y1"
   ]
  },
  {
   "cell_type": "code",
   "execution_count": 102,
   "metadata": {
    "collapsed": false
   },
   "outputs": [
    {
     "data": {
      "text/plain": [
       "[<matplotlib.lines.Line2D at 0x1033ed278>]"
      ]
     },
     "execution_count": 102,
     "metadata": {},
     "output_type": "execute_result"
    },
    {
     "data": {
      "image/png": "[encoded data removed]",
      "text/plain": [
       "<matplotlib.figure.Figure at 0x1033f3668>"
      ]
     },
     "metadata": {},
     "output_type": "display_data"
    }
   ],
   "source": [
    "p_range15 = np.arange(1.5,5.5,0.1)\n",
    "\n",
    "poly_range = pd.DataFrame([p_range15,p_range15**2,p_range15**3,p_range15**4,p_range15**5,p_range15**6,p_range15**7,\n",
    "                           p_range15**8,p_range15**9,p_range15**10,p_range15**11,p_range15**12,p_range15**13,\n",
    "                           p_range15**14,p_range15**15]).T\n",
    "\n",
    "y1 = poly_model_15.predict(predictors_15)   # 只预测原数据中的32个点\n",
    "y_value = poly_model_15.predict(X=poly_range) #预测区间内的40个点\n",
    "\n",
    "mtcars.plot(kind='scatter',\n",
    "            x = 'wt',\n",
    "            y = 'mpg',\n",
    "            figsize=(8,8),\n",
    "            xlim=(0,8),\n",
    "            color='black')\n",
    "\n",
    "plt.plot(p_range15,\n",
    "         y_value,\n",
    "         color='blue')\n",
    "\n",
    "plt.plot(mtcars['wt'],\n",
    "         y1,\n",
    "         color='red')"
   ]
  },
  {
   "cell_type": "markdown",
   "metadata": {},
   "source": [
    "Muliple Linear Regression\n",
    "\n",
    "数据中含有多个解释变量，即2维训练数据框中有更多columns。"
   ]
  },
  {
   "cell_type": "code",
   "execution_count": 104,
   "metadata": {
    "collapsed": false
   },
   "outputs": [
    {
     "data": {
      "text/plain": [
       "LinearRegression(copy_X=True, fit_intercept=True, n_jobs=1, normalize=False)"
      ]
     },
     "execution_count": 104,
     "metadata": {},
     "output_type": "execute_result"
    }
   ],
   "source": [
    "# 在原模型基础上，加上变量\"horsepower\"\n",
    "\n",
    "multi_model = linear_model.LinearRegression()\n",
    "multi_model.fit(X=mtcars.ix[:,['wt','hp']],\n",
    "                y=mtcars['mpg'])"
   ]
  },
  {
   "cell_type": "code",
   "execution_count": 105,
   "metadata": {
    "collapsed": false
   },
   "outputs": [
    {
     "data": {
      "text/plain": [
       "37.227270116447215"
      ]
     },
     "execution_count": 105,
     "metadata": {},
     "output_type": "execute_result"
    }
   ],
   "source": [
    "multi_model.intercept_"
   ]
  },
  {
   "cell_type": "code",
   "execution_count": 106,
   "metadata": {
    "collapsed": false
   },
   "outputs": [
    {
     "data": {
      "text/plain": [
       "array([-3.87783074, -0.03177295])"
      ]
     },
     "execution_count": 106,
     "metadata": {},
     "output_type": "execute_result"
    }
   ],
   "source": [
    "multi_model.coef_"
   ]
  },
  {
   "cell_type": "code",
   "execution_count": 109,
   "metadata": {
    "collapsed": false
   },
   "outputs": [
    {
     "data": {
      "text/plain": [
       "0.8267854518827914"
      ]
     },
     "execution_count": 109,
     "metadata": {},
     "output_type": "execute_result"
    }
   ],
   "source": [
    "multi_model.score(X=mtcars.loc[:,['wt','hp']],y=mtcars['mpg'])  # R²"
   ]
  },
  {
   "cell_type": "markdown",
   "metadata": {},
   "source": [
    "The improved R-squared score suggests horsepower has a linear relationship with mpg. Let's investigate with a plot:"
   ]
  },
  {
   "cell_type": "code",
   "execution_count": 111,
   "metadata": {
    "collapsed": false
   },
   "outputs": [
    {
     "data": {
      "text/plain": [
       "<matplotlib.axes._subplots.AxesSubplot at 0x11da0aa20>"
      ]
     },
     "execution_count": 111,
     "metadata": {},
     "output_type": "execute_result"
    },
    {
     "data": {
      "image/png": "[encoded data removed]",
      "text/plain": [
       "<matplotlib.figure.Figure at 0x10339c898>"
      ]
     },
     "metadata": {},
     "output_type": "display_data"
    }
   ],
   "source": [
    "mtcars.plot(kind='scatter',\n",
    "            x='hp',\n",
    "            y='mpg',\n",
    "            color='black',\n",
    "            figsize=(7,7))"
   ]
  },
  {
   "cell_type": "markdown",
   "metadata": {},
   "source": [
    "从图中看出，the relationship appears more curved than linear，因此多元多项式回归模型可能要好些："
   ]
  },
  {
   "cell_type": "code",
   "execution_count": 115,
   "metadata": {
    "collapsed": false
   },
   "outputs": [
    {
     "name": "stdout",
     "output_type": "stream",
     "text": [
      "R-squared:  0.890727954967\n",
      "RMSE : 1.96091081342\n"
     ]
    }
   ],
   "source": [
    "multi_poly_model = linear_model.LinearRegression()\n",
    "\n",
    "poly_predictors = pd.DataFrame([mtcars['wt'],\n",
    "                                mtcars['hp'],\n",
    "                                mtcars['wt']**2,\n",
    "                                mtcars['hp']**2]).T\n",
    "\n",
    "multi_poly_model.fit(poly_predictors,mtcars['mpg'])\n",
    "\n",
    "print(\"R-squared: \",multi_poly_model.score(poly_predictors,mtcars['mpg']))\n",
    "print(\"RMSE :\", mean_squared_error(multi_poly_model.predict(poly_predictors),mtcars['mpg'])**0.5)"
   ]
  },
  {
   "cell_type": "markdown",
   "metadata": {},
   "source": [
    "仅2个变量，2个二次项，所以不用太担心过拟合。要注意是，多元模型涉及的维度变多，很难做可视化，只能依赖数值输出。"
   ]
  },
  {
   "cell_type": "markdown",
   "metadata": {},
   "source": [
    "我们也可以继续添加解释变量来改善模型。但是，那些与因变量没什么相关关系的，或者与某些已有变量重叠的，对线性回归而言，加进来可能有害（多重共线性）；也需要警惕那些不具有唯一性的数值变量，他们通常表现得更像分类变量。"
   ]
  },
  {
   "cell_type": "markdown",
   "metadata": {},
   "source": [
    "# Wrap up\n",
    "线性回归是数值预测中最常用的技巧。任何时候做数值预测的任务，都可以尝试从线性回归作为出发，从简单到复杂。\n",
    "\n",
    "下一章，我们回顾Titanic 数据集，集中探讨分类（classification）：将观察值划分到某一个类别。"
   ]
  },
  {
   "cell_type": "code",
   "execution_count": null,
   "metadata": {
    "collapsed": true
   },
   "outputs": [],
   "source": []
  }
 ],
 "metadata": {
  "kernelspec": {
   "display_name": "Python 3",
   "language": "python",
   "name": "python3"
  },
  "language_info": {
   "codemirror_mode": {
    "name": "ipython",
    "version": 3
   },
   "file_extension": ".py",
   "mimetype": "text/x-python",
   "name": "python",
   "nbconvert_exporter": "python",
   "pygments_lexer": "ipython3",
   "version": "3.5.2"
  }
 },
 "nbformat": 4,
 "nbformat_minor": 0
}
